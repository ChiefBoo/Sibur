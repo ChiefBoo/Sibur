{
  "nbformat": 4,
  "nbformat_minor": 0,
  "metadata": {
    "kernelspec": {
      "display_name": "Python 3",
      "language": "python",
      "name": "python3"
    },
    "language_info": {
      "codemirror_mode": {
        "name": "ipython",
        "version": 3
      },
      "file_extension": ".py",
      "mimetype": "text/x-python",
      "name": "python",
      "nbconvert_exporter": "python",
      "pygments_lexer": "ipython3",
      "version": "3.8.2"
    },
    "colab": {
      "name": "sibur_submission.ipynb",
      "provenance": [],
      "collapsed_sections": [
        "bxnd9FTWoJyH",
        "gKBW4W1qoJyK",
        "oPiKZ-W-oJyN",
        "xQOmpwhHoJyP",
        "Uj0SJ8X7oJyS"
      ],
      "toc_visible": true
    }
  },
  "cells": [
    {
      "cell_type": "code",
      "metadata": {
        "id": "-4W_gyWOoYll"
      },
      "source": [
        "import pandas as pd\n"
      ],
      "execution_count": null,
      "outputs": []
    },
    {
      "cell_type": "code",
      "metadata": {
        "id": "Y67jAD2frc59"
      },
      "source": [
        "train = pd.read_csv('train.csv',sep=',')"
      ],
      "execution_count": null,
      "outputs": []
    },
    {
      "cell_type": "code",
      "metadata": {
        "colab": {
          "base_uri": "https://localhost:8080/",
          "height": 419
        },
        "id": "uJykZ81brgox",
        "outputId": "b45d827c-e6f1-4b79-f51f-6ba716e138f7"
      },
      "source": [
        "train"
      ],
      "execution_count": null,
      "outputs": [
        {
          "output_type": "execute_result",
          "data": {
            "text/html": [
              "<div>\n",
              "<style scoped>\n",
              "    .dataframe tbody tr th:only-of-type {\n",
              "        vertical-align: middle;\n",
              "    }\n",
              "\n",
              "    .dataframe tbody tr th {\n",
              "        vertical-align: top;\n",
              "    }\n",
              "\n",
              "    .dataframe thead th {\n",
              "        text-align: right;\n",
              "    }\n",
              "</style>\n",
              "<table border=\"1\" class=\"dataframe\">\n",
              "  <thead>\n",
              "    <tr style=\"text-align: right;\">\n",
              "      <th></th>\n",
              "      <th>pair_id</th>\n",
              "      <th>name_1</th>\n",
              "      <th>name_2</th>\n",
              "      <th>is_duplicate</th>\n",
              "    </tr>\n",
              "  </thead>\n",
              "  <tbody>\n",
              "    <tr>\n",
              "      <th>0</th>\n",
              "      <td>1</td>\n",
              "      <td>Iko Industries Ltd.</td>\n",
              "      <td>Enormous Industrial Trade Pvt., Ltd.</td>\n",
              "      <td>0</td>\n",
              "    </tr>\n",
              "    <tr>\n",
              "      <th>1</th>\n",
              "      <td>2</td>\n",
              "      <td>Apcotex Industries Ltd.</td>\n",
              "      <td>Technocraft Industries (India) Ltd.</td>\n",
              "      <td>0</td>\n",
              "    </tr>\n",
              "    <tr>\n",
              "      <th>2</th>\n",
              "      <td>3</td>\n",
              "      <td>Rishichem Distributors Pvt., Ltd.</td>\n",
              "      <td>Dsa</td>\n",
              "      <td>0</td>\n",
              "    </tr>\n",
              "    <tr>\n",
              "      <th>3</th>\n",
              "      <td>4</td>\n",
              "      <td>Powermax Rubber Factory</td>\n",
              "      <td>Co. One</td>\n",
              "      <td>0</td>\n",
              "    </tr>\n",
              "    <tr>\n",
              "      <th>4</th>\n",
              "      <td>5</td>\n",
              "      <td>Tress A/S</td>\n",
              "      <td>Longyou Industries Park Zhejiang</td>\n",
              "      <td>0</td>\n",
              "    </tr>\n",
              "    <tr>\n",
              "      <th>...</th>\n",
              "      <td>...</td>\n",
              "      <td>...</td>\n",
              "      <td>...</td>\n",
              "      <td>...</td>\n",
              "    </tr>\n",
              "    <tr>\n",
              "      <th>497814</th>\n",
              "      <td>497815</td>\n",
              "      <td>BIT-MAT PRODUCTS</td>\n",
              "      <td>The Goodyear Tire and Rubber Company</td>\n",
              "      <td>0</td>\n",
              "    </tr>\n",
              "    <tr>\n",
              "      <th>497815</th>\n",
              "      <td>497816</td>\n",
              "      <td>Bnd Trading Co., Ltd.</td>\n",
              "      <td>Zhong Shan Yue Liang Economy&amp; Trade Imp. &amp; Exp...</td>\n",
              "      <td>0</td>\n",
              "    </tr>\n",
              "    <tr>\n",
              "      <th>497816</th>\n",
              "      <td>497817</td>\n",
              "      <td>Xeikon Industrial Co., Ltd. Of Dongguan City</td>\n",
              "      <td>Yi Cheng Trading Co., Ltd. Of Dongguan City</td>\n",
              "      <td>0</td>\n",
              "    </tr>\n",
              "    <tr>\n",
              "      <th>497817</th>\n",
              "      <td>497818</td>\n",
              "      <td>Shanghai Kechuan Trading Co., Ltd.</td>\n",
              "      <td>Shanghai M&amp;G Stationery Inc.</td>\n",
              "      <td>0</td>\n",
              "    </tr>\n",
              "    <tr>\n",
              "      <th>497818</th>\n",
              "      <td>497819</td>\n",
              "      <td>Dih Wei Industries Co.</td>\n",
              "      <td>Burlington Industries Corporate</td>\n",
              "      <td>0</td>\n",
              "    </tr>\n",
              "  </tbody>\n",
              "</table>\n",
              "<p>497819 rows × 4 columns</p>\n",
              "</div>"
            ],
            "text/plain": [
              "        pair_id  ... is_duplicate\n",
              "0             1  ...            0\n",
              "1             2  ...            0\n",
              "2             3  ...            0\n",
              "3             4  ...            0\n",
              "4             5  ...            0\n",
              "...         ...  ...          ...\n",
              "497814   497815  ...            0\n",
              "497815   497816  ...            0\n",
              "497816   497817  ...            0\n",
              "497817   497818  ...            0\n",
              "497818   497819  ...            0\n",
              "\n",
              "[497819 rows x 4 columns]"
            ]
          },
          "metadata": {
            "tags": []
          },
          "execution_count": 3
        }
      ]
    },
    {
      "cell_type": "code",
      "metadata": {
        "id": "oQTx50rSrpLa"
      },
      "source": [
        "test = pd.read_csv('test.csv',sep=',')"
      ],
      "execution_count": null,
      "outputs": []
    },
    {
      "cell_type": "code",
      "metadata": {
        "colab": {
          "base_uri": "https://localhost:8080/",
          "height": 419
        },
        "id": "i6fxGwefruIx",
        "outputId": "c1e3e0c5-d20b-4585-c4f8-94b089c29597"
      },
      "source": [
        "test"
      ],
      "execution_count": null,
      "outputs": [
        {
          "output_type": "execute_result",
          "data": {
            "text/html": [
              "<div>\n",
              "<style scoped>\n",
              "    .dataframe tbody tr th:only-of-type {\n",
              "        vertical-align: middle;\n",
              "    }\n",
              "\n",
              "    .dataframe tbody tr th {\n",
              "        vertical-align: top;\n",
              "    }\n",
              "\n",
              "    .dataframe thead th {\n",
              "        text-align: right;\n",
              "    }\n",
              "</style>\n",
              "<table border=\"1\" class=\"dataframe\">\n",
              "  <thead>\n",
              "    <tr style=\"text-align: right;\">\n",
              "      <th></th>\n",
              "      <th>pair_id</th>\n",
              "      <th>name_1</th>\n",
              "      <th>name_2</th>\n",
              "    </tr>\n",
              "  </thead>\n",
              "  <tbody>\n",
              "    <tr>\n",
              "      <th>0</th>\n",
              "      <td>1</td>\n",
              "      <td>Sun Blinds Decoration Inc.</td>\n",
              "      <td>Indl De Cuautitlan Sa Cv</td>\n",
              "    </tr>\n",
              "    <tr>\n",
              "      <th>1</th>\n",
              "      <td>2</td>\n",
              "      <td>Eih Ltd.</td>\n",
              "      <td>Dongguan Wei Shi Plastic Product Co., Ltd.</td>\n",
              "    </tr>\n",
              "    <tr>\n",
              "      <th>2</th>\n",
              "      <td>3</td>\n",
              "      <td>Jsh Ltd. (Hk)</td>\n",
              "      <td>Arab Shipbuilding And Repair Yard C</td>\n",
              "    </tr>\n",
              "    <tr>\n",
              "      <th>3</th>\n",
              "      <td>4</td>\n",
              "      <td>Better Industrial Ltd.</td>\n",
              "      <td>Farmacap Industria E Comercio Ltda</td>\n",
              "    </tr>\n",
              "    <tr>\n",
              "      <th>4</th>\n",
              "      <td>5</td>\n",
              "      <td>Equipos Inoxidables Del Norte Sa De Cv</td>\n",
              "      <td>Bel Inc.</td>\n",
              "    </tr>\n",
              "    <tr>\n",
              "      <th>...</th>\n",
              "      <td>...</td>\n",
              "      <td>...</td>\n",
              "      <td>...</td>\n",
              "    </tr>\n",
              "    <tr>\n",
              "      <th>213244</th>\n",
              "      <td>213245</td>\n",
              "      <td>Dyna Logistics Inc.</td>\n",
              "      <td>Jiangsu Easero Logistics Ltd.</td>\n",
              "    </tr>\n",
              "    <tr>\n",
              "      <th>213245</th>\n",
              "      <td>213246</td>\n",
              "      <td>Dsi</td>\n",
              "      <td>Kavalani &amp; Sons W.L.L</td>\n",
              "    </tr>\n",
              "    <tr>\n",
              "      <th>213246</th>\n",
              "      <td>213247</td>\n",
              "      <td>Saint Gobain Abrasives (Shanghai)</td>\n",
              "      <td>Zarabi</td>\n",
              "    </tr>\n",
              "    <tr>\n",
              "      <th>213247</th>\n",
              "      <td>213248</td>\n",
              "      <td>Covestro ( India) Private Ltd.</td>\n",
              "      <td>Terabytes India Private Ltd.</td>\n",
              "    </tr>\n",
              "    <tr>\n",
              "      <th>213248</th>\n",
              "      <td>213249</td>\n",
              "      <td>Zandur (Rbg Products Llc)</td>\n",
              "      <td>Qingyuan Xierong Plastics &amp; Rubber Products Co...</td>\n",
              "    </tr>\n",
              "  </tbody>\n",
              "</table>\n",
              "<p>213249 rows × 3 columns</p>\n",
              "</div>"
            ],
            "text/plain": [
              "        pair_id  ...                                             name_2\n",
              "0             1  ...                           Indl De Cuautitlan Sa Cv\n",
              "1             2  ...         Dongguan Wei Shi Plastic Product Co., Ltd.\n",
              "2             3  ...                Arab Shipbuilding And Repair Yard C\n",
              "3             4  ...                 Farmacap Industria E Comercio Ltda\n",
              "4             5  ...                                           Bel Inc.\n",
              "...         ...  ...                                                ...\n",
              "213244   213245  ...                      Jiangsu Easero Logistics Ltd.\n",
              "213245   213246  ...                              Kavalani & Sons W.L.L\n",
              "213246   213247  ...                                             Zarabi\n",
              "213247   213248  ...                       Terabytes India Private Ltd.\n",
              "213248   213249  ...  Qingyuan Xierong Plastics & Rubber Products Co...\n",
              "\n",
              "[213249 rows x 3 columns]"
            ]
          },
          "metadata": {
            "tags": []
          },
          "execution_count": 5
        }
      ]
    },
    {
      "cell_type": "code",
      "metadata": {
        "colab": {
          "base_uri": "https://localhost:8080/"
        },
        "id": "-hwEWn6Ur9Ll",
        "outputId": "487065a2-e916-4946-95fd-05140da90fe3"
      },
      "source": [
        "train['is_duplicate'].unique()"
      ],
      "execution_count": null,
      "outputs": [
        {
          "output_type": "execute_result",
          "data": {
            "text/plain": [
              "array([0, 1])"
            ]
          },
          "metadata": {
            "tags": []
          },
          "execution_count": 6
        }
      ]
    },
    {
      "cell_type": "code",
      "metadata": {
        "colab": {
          "base_uri": "https://localhost:8080/"
        },
        "id": "UCKhwTK2oJx9",
        "outputId": "8ad119bb-2ce1-4b66-af0b-c19f68a38655"
      },
      "source": [
        "%pylab inline\n",
        "plt.style.use(\"bmh\")"
      ],
      "execution_count": null,
      "outputs": [
        {
          "output_type": "stream",
          "text": [
            "Populating the interactive namespace from numpy and matplotlib\n"
          ],
          "name": "stdout"
        },
        {
          "output_type": "stream",
          "text": [
            "/usr/local/lib/python3.6/dist-packages/IPython/core/magics/pylab.py:161: UserWarning: pylab import has clobbered these variables: ['test']\n",
            "`%matplotlib` prevents importing * from pylab and numpy\n",
            "  \"\\n`%matplotlib` prevents importing * from pylab and numpy\"\n"
          ],
          "name": "stderr"
        }
      ]
    },
    {
      "cell_type": "code",
      "metadata": {
        "id": "SkfpNhnloJyF"
      },
      "source": [
        "import pathlib\n",
        "import pandas as pd\n",
        "\n",
        "from sklearn.metrics import classification_report, f1_score\n",
        "from sklearn.model_selection import StratifiedShuffleSplit\n",
        "from sklearn.ensemble import RandomForestClassifier\n",
        "from sklearn.linear_model import LogisticRegression"
      ],
      "execution_count": null,
      "outputs": []
    },
    {
      "cell_type": "code",
      "metadata": {
        "id": "OpsNlI4zoJyH"
      },
      "source": [
        "from tqdm import tqdm\n",
        "tqdm.pandas()"
      ],
      "execution_count": null,
      "outputs": []
    },
    {
      "cell_type": "code",
      "metadata": {
        "id": "s3z_xOUWoJyH"
      },
      "source": [
        "RS = 7345"
      ],
      "execution_count": null,
      "outputs": []
    },
    {
      "cell_type": "markdown",
      "metadata": {
        "id": "bxnd9FTWoJyH"
      },
      "source": [
        "# Загрузка данных"
      ]
    },
    {
      "cell_type": "code",
      "metadata": {
        "id": "RT55a0tfoJyI"
      },
      "source": [
        "train = pd.read_csv(\"train.csv\", index_col=\"pair_id\")\n",
        "test = pd.read_csv(\"test.csv\", index_col=\"pair_id\")"
      ],
      "execution_count": null,
      "outputs": []
    },
    {
      "cell_type": "code",
      "metadata": {
        "colab": {
          "base_uri": "https://localhost:8080/",
          "height": 235
        },
        "id": "mCaoV-KOoJyJ",
        "outputId": "27aeebe0-e7b9-47da-dd7b-fb435fe033ad"
      },
      "source": [
        "train.head()"
      ],
      "execution_count": null,
      "outputs": [
        {
          "output_type": "execute_result",
          "data": {
            "text/html": [
              "<div>\n",
              "<style scoped>\n",
              "    .dataframe tbody tr th:only-of-type {\n",
              "        vertical-align: middle;\n",
              "    }\n",
              "\n",
              "    .dataframe tbody tr th {\n",
              "        vertical-align: top;\n",
              "    }\n",
              "\n",
              "    .dataframe thead th {\n",
              "        text-align: right;\n",
              "    }\n",
              "</style>\n",
              "<table border=\"1\" class=\"dataframe\">\n",
              "  <thead>\n",
              "    <tr style=\"text-align: right;\">\n",
              "      <th></th>\n",
              "      <th>name_1</th>\n",
              "      <th>name_2</th>\n",
              "      <th>is_duplicate</th>\n",
              "    </tr>\n",
              "    <tr>\n",
              "      <th>pair_id</th>\n",
              "      <th></th>\n",
              "      <th></th>\n",
              "      <th></th>\n",
              "    </tr>\n",
              "  </thead>\n",
              "  <tbody>\n",
              "    <tr>\n",
              "      <th>1</th>\n",
              "      <td>Iko Industries Ltd.</td>\n",
              "      <td>Enormous Industrial Trade Pvt., Ltd.</td>\n",
              "      <td>0</td>\n",
              "    </tr>\n",
              "    <tr>\n",
              "      <th>2</th>\n",
              "      <td>Apcotex Industries Ltd.</td>\n",
              "      <td>Technocraft Industries (India) Ltd.</td>\n",
              "      <td>0</td>\n",
              "    </tr>\n",
              "    <tr>\n",
              "      <th>3</th>\n",
              "      <td>Rishichem Distributors Pvt., Ltd.</td>\n",
              "      <td>Dsa</td>\n",
              "      <td>0</td>\n",
              "    </tr>\n",
              "    <tr>\n",
              "      <th>4</th>\n",
              "      <td>Powermax Rubber Factory</td>\n",
              "      <td>Co. One</td>\n",
              "      <td>0</td>\n",
              "    </tr>\n",
              "    <tr>\n",
              "      <th>5</th>\n",
              "      <td>Tress A/S</td>\n",
              "      <td>Longyou Industries Park Zhejiang</td>\n",
              "      <td>0</td>\n",
              "    </tr>\n",
              "  </tbody>\n",
              "</table>\n",
              "</div>"
            ],
            "text/plain": [
              "                                    name_1  ... is_duplicate\n",
              "pair_id                                     ...             \n",
              "1                      Iko Industries Ltd.  ...            0\n",
              "2                  Apcotex Industries Ltd.  ...            0\n",
              "3        Rishichem Distributors Pvt., Ltd.  ...            0\n",
              "4                  Powermax Rubber Factory  ...            0\n",
              "5                                Tress A/S  ...            0\n",
              "\n",
              "[5 rows x 3 columns]"
            ]
          },
          "metadata": {
            "tags": []
          },
          "execution_count": 12
        }
      ]
    },
    {
      "cell_type": "code",
      "metadata": {
        "colab": {
          "base_uri": "https://localhost:8080/",
          "height": 235
        },
        "id": "V96Pc23koJyJ",
        "outputId": "abc57dcf-706f-498f-9926-aff8bdcdb72e"
      },
      "source": [
        "test.head()"
      ],
      "execution_count": null,
      "outputs": [
        {
          "output_type": "execute_result",
          "data": {
            "text/html": [
              "<div>\n",
              "<style scoped>\n",
              "    .dataframe tbody tr th:only-of-type {\n",
              "        vertical-align: middle;\n",
              "    }\n",
              "\n",
              "    .dataframe tbody tr th {\n",
              "        vertical-align: top;\n",
              "    }\n",
              "\n",
              "    .dataframe thead th {\n",
              "        text-align: right;\n",
              "    }\n",
              "</style>\n",
              "<table border=\"1\" class=\"dataframe\">\n",
              "  <thead>\n",
              "    <tr style=\"text-align: right;\">\n",
              "      <th></th>\n",
              "      <th>name_1</th>\n",
              "      <th>name_2</th>\n",
              "    </tr>\n",
              "    <tr>\n",
              "      <th>pair_id</th>\n",
              "      <th></th>\n",
              "      <th></th>\n",
              "    </tr>\n",
              "  </thead>\n",
              "  <tbody>\n",
              "    <tr>\n",
              "      <th>1</th>\n",
              "      <td>Sun Blinds Decoration Inc.</td>\n",
              "      <td>Indl De Cuautitlan Sa Cv</td>\n",
              "    </tr>\n",
              "    <tr>\n",
              "      <th>2</th>\n",
              "      <td>Eih Ltd.</td>\n",
              "      <td>Dongguan Wei Shi Plastic Product Co., Ltd.</td>\n",
              "    </tr>\n",
              "    <tr>\n",
              "      <th>3</th>\n",
              "      <td>Jsh Ltd. (Hk)</td>\n",
              "      <td>Arab Shipbuilding And Repair Yard C</td>\n",
              "    </tr>\n",
              "    <tr>\n",
              "      <th>4</th>\n",
              "      <td>Better Industrial Ltd.</td>\n",
              "      <td>Farmacap Industria E Comercio Ltda</td>\n",
              "    </tr>\n",
              "    <tr>\n",
              "      <th>5</th>\n",
              "      <td>Equipos Inoxidables Del Norte Sa De Cv</td>\n",
              "      <td>Bel Inc.</td>\n",
              "    </tr>\n",
              "  </tbody>\n",
              "</table>\n",
              "</div>"
            ],
            "text/plain": [
              "                                         name_1                                      name_2\n",
              "pair_id                                                                                    \n",
              "1                    Sun Blinds Decoration Inc.                    Indl De Cuautitlan Sa Cv\n",
              "2                                      Eih Ltd.  Dongguan Wei Shi Plastic Product Co., Ltd.\n",
              "3                                 Jsh Ltd. (Hk)         Arab Shipbuilding And Repair Yard C\n",
              "4                        Better Industrial Ltd.          Farmacap Industria E Comercio Ltda\n",
              "5        Equipos Inoxidables Del Norte Sa De Cv                                    Bel Inc."
            ]
          },
          "metadata": {
            "tags": []
          },
          "execution_count": 13
        }
      ]
    },
    {
      "cell_type": "markdown",
      "metadata": {
        "id": "gKBW4W1qoJyK"
      },
      "source": [
        "# Статистика таргета"
      ]
    },
    {
      "cell_type": "code",
      "metadata": {
        "colab": {
          "base_uri": "https://localhost:8080/"
        },
        "id": "_037Nyd6oJyK",
        "outputId": "db0a0a11-62e2-4d27-ee53-d6d4365ceb9b"
      },
      "source": [
        "train.is_duplicate.value_counts()"
      ],
      "execution_count": null,
      "outputs": [
        {
          "output_type": "execute_result",
          "data": {
            "text/plain": [
              "0    494161\n",
              "1      3658\n",
              "Name: is_duplicate, dtype: int64"
            ]
          },
          "metadata": {
            "tags": []
          },
          "execution_count": 14
        }
      ]
    },
    {
      "cell_type": "code",
      "metadata": {
        "colab": {
          "base_uri": "https://localhost:8080/",
          "height": 545
        },
        "id": "7nj8yK9ooJyK",
        "outputId": "dd123728-bf24-4400-8b3a-d91860548a6d"
      },
      "source": [
        "train[train.is_duplicate==1].sample(15)"
      ],
      "execution_count": null,
      "outputs": [
        {
          "output_type": "execute_result",
          "data": {
            "text/html": [
              "<div>\n",
              "<style scoped>\n",
              "    .dataframe tbody tr th:only-of-type {\n",
              "        vertical-align: middle;\n",
              "    }\n",
              "\n",
              "    .dataframe tbody tr th {\n",
              "        vertical-align: top;\n",
              "    }\n",
              "\n",
              "    .dataframe thead th {\n",
              "        text-align: right;\n",
              "    }\n",
              "</style>\n",
              "<table border=\"1\" class=\"dataframe\">\n",
              "  <thead>\n",
              "    <tr style=\"text-align: right;\">\n",
              "      <th></th>\n",
              "      <th>name_1</th>\n",
              "      <th>name_2</th>\n",
              "      <th>is_duplicate</th>\n",
              "    </tr>\n",
              "    <tr>\n",
              "      <th>pair_id</th>\n",
              "      <th></th>\n",
              "      <th></th>\n",
              "      <th></th>\n",
              "    </tr>\n",
              "  </thead>\n",
              "  <tbody>\n",
              "    <tr>\n",
              "      <th>468048</th>\n",
              "      <td>INRECO</td>\n",
              "      <td>Inreco A/S</td>\n",
              "      <td>1</td>\n",
              "    </tr>\n",
              "    <tr>\n",
              "      <th>240795</th>\n",
              "      <td>Bridgestone Firestone Venezolana</td>\n",
              "      <td>Bridgestone Ncr</td>\n",
              "      <td>1</td>\n",
              "    </tr>\n",
              "    <tr>\n",
              "      <th>140871</th>\n",
              "      <td>Bridgestone Stargard Sp Zoo</td>\n",
              "      <td>Bridgestone(Shenyang) Tire Co., Ltd.</td>\n",
              "      <td>1</td>\n",
              "    </tr>\n",
              "    <tr>\n",
              "      <th>474044</th>\n",
              "      <td>Youngnam Spinning</td>\n",
              "      <td>Youngnam Spinning Co., Ltd.</td>\n",
              "      <td>1</td>\n",
              "    </tr>\n",
              "    <tr>\n",
              "      <th>325344</th>\n",
              "      <td>T.L. Squire</td>\n",
              "      <td>T.L. Squire &amp; Co. Inc.</td>\n",
              "      <td>1</td>\n",
              "    </tr>\n",
              "    <tr>\n",
              "      <th>411877</th>\n",
              "      <td>SOPREMA BLONIE</td>\n",
              "      <td>SOPREMA SOURGES</td>\n",
              "      <td>1</td>\n",
              "    </tr>\n",
              "    <tr>\n",
              "      <th>287532</th>\n",
              "      <td>Exxonmobil Quimica Ltda</td>\n",
              "      <td>Exxonmobil Servicios Petroleros Mexico Sa De Cv</td>\n",
              "      <td>1</td>\n",
              "    </tr>\n",
              "    <tr>\n",
              "      <th>10505</th>\n",
              "      <td>Gestion Soprema Canada Inc.</td>\n",
              "      <td>SOPREMA SOURGES</td>\n",
              "      <td>1</td>\n",
              "    </tr>\n",
              "    <tr>\n",
              "      <th>283509</th>\n",
              "      <td>ВЕДАГ ГМБХ</td>\n",
              "      <td>VEDAG GmbH</td>\n",
              "      <td>1</td>\n",
              "    </tr>\n",
              "    <tr>\n",
              "      <th>244505</th>\n",
              "      <td>Sika Kimia Sdn. Bhd.</td>\n",
              "      <td>Sika Pakistan (Pvt) Ltd.</td>\n",
              "      <td>1</td>\n",
              "    </tr>\n",
              "    <tr>\n",
              "      <th>69551</th>\n",
              "      <td>KIMBERLY-CLARK</td>\n",
              "      <td>ООО\"КИМБЕРЛИ-КЛАРК\"</td>\n",
              "      <td>1</td>\n",
              "    </tr>\n",
              "    <tr>\n",
              "      <th>195416</th>\n",
              "      <td>Pt Bridgestone Tire Indonesia</td>\n",
              "      <td>Bridgestone De Costa Rica Sociedad Anoni</td>\n",
              "      <td>1</td>\n",
              "    </tr>\n",
              "    <tr>\n",
              "      <th>146460</th>\n",
              "      <td>Michelin Americas Research</td>\n",
              "      <td>Michelin Na Asrc</td>\n",
              "      <td>1</td>\n",
              "    </tr>\n",
              "    <tr>\n",
              "      <th>469731</th>\n",
              "      <td>Bridgestone Ncr</td>\n",
              "      <td>Bridgestone India</td>\n",
              "      <td>1</td>\n",
              "    </tr>\n",
              "    <tr>\n",
              "      <th>243406</th>\n",
              "      <td>Bridgestone International Group</td>\n",
              "      <td>Bridgestone Golf (Shenzhen) Co., Ltd.</td>\n",
              "      <td>1</td>\n",
              "    </tr>\n",
              "  </tbody>\n",
              "</table>\n",
              "</div>"
            ],
            "text/plain": [
              "                                   name_1  ... is_duplicate\n",
              "pair_id                                    ...             \n",
              "468048                             INRECO  ...            1\n",
              "240795   Bridgestone Firestone Venezolana  ...            1\n",
              "140871        Bridgestone Stargard Sp Zoo  ...            1\n",
              "474044                  Youngnam Spinning  ...            1\n",
              "325344                        T.L. Squire  ...            1\n",
              "411877                     SOPREMA BLONIE  ...            1\n",
              "287532            Exxonmobil Quimica Ltda  ...            1\n",
              "10505         Gestion Soprema Canada Inc.  ...            1\n",
              "283509                         ВЕДАГ ГМБХ  ...            1\n",
              "244505               Sika Kimia Sdn. Bhd.  ...            1\n",
              "69551                      KIMBERLY-CLARK  ...            1\n",
              "195416      Pt Bridgestone Tire Indonesia  ...            1\n",
              "146460         Michelin Americas Research  ...            1\n",
              "469731                    Bridgestone Ncr  ...            1\n",
              "243406    Bridgestone International Group  ...            1\n",
              "\n",
              "[15 rows x 3 columns]"
            ]
          },
          "metadata": {
            "tags": []
          },
          "execution_count": 15
        }
      ]
    },
    {
      "cell_type": "code",
      "metadata": {
        "colab": {
          "base_uri": "https://localhost:8080/",
          "height": 545
        },
        "id": "3oQHrCPPoJyK",
        "outputId": "7433cb33-304e-479c-d9fa-76f9e4ec694e"
      },
      "source": [
        "train[train.is_duplicate==0].sample(15)"
      ],
      "execution_count": null,
      "outputs": [
        {
          "output_type": "execute_result",
          "data": {
            "text/html": [
              "<div>\n",
              "<style scoped>\n",
              "    .dataframe tbody tr th:only-of-type {\n",
              "        vertical-align: middle;\n",
              "    }\n",
              "\n",
              "    .dataframe tbody tr th {\n",
              "        vertical-align: top;\n",
              "    }\n",
              "\n",
              "    .dataframe thead th {\n",
              "        text-align: right;\n",
              "    }\n",
              "</style>\n",
              "<table border=\"1\" class=\"dataframe\">\n",
              "  <thead>\n",
              "    <tr style=\"text-align: right;\">\n",
              "      <th></th>\n",
              "      <th>name_1</th>\n",
              "      <th>name_2</th>\n",
              "      <th>is_duplicate</th>\n",
              "    </tr>\n",
              "    <tr>\n",
              "      <th>pair_id</th>\n",
              "      <th></th>\n",
              "      <th></th>\n",
              "      <th></th>\n",
              "    </tr>\n",
              "  </thead>\n",
              "  <tbody>\n",
              "    <tr>\n",
              "      <th>104154</th>\n",
              "      <td>Eia Co., Ltd.</td>\n",
              "      <td>Hisvima S.L</td>\n",
              "      <td>0</td>\n",
              "    </tr>\n",
              "    <tr>\n",
              "      <th>464074</th>\n",
              "      <td>Golden Trading Ltd.</td>\n",
              "      <td>Wld</td>\n",
              "      <td>0</td>\n",
              "    </tr>\n",
              "    <tr>\n",
              "      <th>262173</th>\n",
              "      <td>Truck Bus Industria E Comercio De Auto Pecas Ltda</td>\n",
              "      <td>Socer Rb Industries E Comercio Ltda</td>\n",
              "      <td>0</td>\n",
              "    </tr>\n",
              "    <tr>\n",
              "      <th>192322</th>\n",
              "      <td>Sto Corp</td>\n",
              "      <td>Ideal Combination</td>\n",
              "      <td>0</td>\n",
              "    </tr>\n",
              "    <tr>\n",
              "      <th>477878</th>\n",
              "      <td>Deybon International</td>\n",
              "      <td>The Bonnot Co.</td>\n",
              "      <td>0</td>\n",
              "    </tr>\n",
              "    <tr>\n",
              "      <th>426386</th>\n",
              "      <td>Giffin Industries S De Rl De Cv</td>\n",
              "      <td>Android Industries</td>\n",
              "      <td>0</td>\n",
              "    </tr>\n",
              "    <tr>\n",
              "      <th>185286</th>\n",
              "      <td>Eosso Brothers, Inc</td>\n",
              "      <td>EUROBIT d.o.o.</td>\n",
              "      <td>0</td>\n",
              "    </tr>\n",
              "    <tr>\n",
              "      <th>320214</th>\n",
              "      <td>North American Wood Products</td>\n",
              "      <td>Chori America</td>\n",
              "      <td>0</td>\n",
              "    </tr>\n",
              "    <tr>\n",
              "      <th>103425</th>\n",
              "      <td>Henkel Industrie Ag No 3 5 Th Floor</td>\n",
              "      <td>Abc Industries</td>\n",
              "      <td>0</td>\n",
              "    </tr>\n",
              "    <tr>\n",
              "      <th>128372</th>\n",
              "      <td>Avery Dennison Materials Europe Bv</td>\n",
              "      <td>Solmaq S.A.S.</td>\n",
              "      <td>0</td>\n",
              "    </tr>\n",
              "    <tr>\n",
              "      <th>369906</th>\n",
              "      <td>Co. One</td>\n",
              "      <td>Autoneum India Pvt., Ltd.</td>\n",
              "      <td>0</td>\n",
              "    </tr>\n",
              "    <tr>\n",
              "      <th>178156</th>\n",
              "      <td>Shenzhen Shengdajie Trading Co., Ltd.</td>\n",
              "      <td>Sadaf Trading Co.</td>\n",
              "      <td>0</td>\n",
              "    </tr>\n",
              "    <tr>\n",
              "      <th>190402</th>\n",
              "      <td>Guangzhou Topfull Chemi</td>\n",
              "      <td>Ace International Ag</td>\n",
              "      <td>0</td>\n",
              "    </tr>\n",
              "    <tr>\n",
              "      <th>50447</th>\n",
              "      <td>Rathi Polybond (Pty) Ltd.</td>\n",
              "      <td>Ram International</td>\n",
              "      <td>0</td>\n",
              "    </tr>\n",
              "    <tr>\n",
              "      <th>262853</th>\n",
              "      <td>Acomon Srl</td>\n",
              "      <td>Aloona Industries Kenya</td>\n",
              "      <td>0</td>\n",
              "    </tr>\n",
              "  </tbody>\n",
              "</table>\n",
              "</div>"
            ],
            "text/plain": [
              "                                                    name_1  ... is_duplicate\n",
              "pair_id                                                     ...             \n",
              "104154                                       Eia Co., Ltd.  ...            0\n",
              "464074                                 Golden Trading Ltd.  ...            0\n",
              "262173   Truck Bus Industria E Comercio De Auto Pecas Ltda  ...            0\n",
              "192322                                            Sto Corp  ...            0\n",
              "477878                                Deybon International  ...            0\n",
              "426386                     Giffin Industries S De Rl De Cv  ...            0\n",
              "185286                                 Eosso Brothers, Inc  ...            0\n",
              "320214                        North American Wood Products  ...            0\n",
              "103425                 Henkel Industrie Ag No 3 5 Th Floor  ...            0\n",
              "128372                  Avery Dennison Materials Europe Bv  ...            0\n",
              "369906                                             Co. One  ...            0\n",
              "178156               Shenzhen Shengdajie Trading Co., Ltd.  ...            0\n",
              "190402                             Guangzhou Topfull Chemi  ...            0\n",
              "50447                            Rathi Polybond (Pty) Ltd.  ...            0\n",
              "262853                                          Acomon Srl  ...            0\n",
              "\n",
              "[15 rows x 3 columns]"
            ]
          },
          "metadata": {
            "tags": []
          },
          "execution_count": 16
        }
      ]
    },
    {
      "cell_type": "markdown",
      "metadata": {
        "id": "1N3plyWzoJyL"
      },
      "source": [
        "# Очистка данных"
      ]
    },
    {
      "cell_type": "code",
      "metadata": {
        "colab": {
          "base_uri": "https://localhost:8080/"
        },
        "id": "TaUY3Zn9ukyh",
        "outputId": "85a9fab2-439e-4981-9258-2d0a821e765d"
      },
      "source": [
        "!pip install pycountry"
      ],
      "execution_count": null,
      "outputs": [
        {
          "output_type": "stream",
          "text": [
            "Requirement already satisfied: pycountry in /usr/local/lib/python3.6/dist-packages (20.7.3)\n"
          ],
          "name": "stdout"
        }
      ]
    },
    {
      "cell_type": "code",
      "metadata": {
        "id": "54zg3QzXoJyL"
      },
      "source": [
        "import pycountry\n",
        "import re"
      ],
      "execution_count": null,
      "outputs": []
    },
    {
      "cell_type": "code",
      "metadata": {
        "id": "MKG899I5oJyL"
      },
      "source": [
        "countries = [country.name.lower() for country in pycountry.countries]"
      ],
      "execution_count": null,
      "outputs": []
    },
    {
      "cell_type": "code",
      "metadata": {
        "id": "zJAECJALoJyL"
      },
      "source": [
        "train[\"name_1\"] = train[\"name_1\"].str.lower()\n",
        "train[\"name_2\"] = train[\"name_2\"].str.lower()\n",
        "\n",
        "test[\"name_1\"] = test[\"name_1\"].str.lower()\n",
        "test[\"name_2\"] = test[\"name_2\"].str.lower()"
      ],
      "execution_count": null,
      "outputs": []
    },
    {
      "cell_type": "code",
      "metadata": {
        "colab": {
          "base_uri": "https://localhost:8080/",
          "height": 450
        },
        "id": "14AGK-mcoJyM",
        "outputId": "47facc46-7df3-43c8-f796-b94e210074f6"
      },
      "source": [
        "train[train.name_1.str.contains(\"gmbh\")]"
      ],
      "execution_count": null,
      "outputs": [
        {
          "output_type": "execute_result",
          "data": {
            "text/html": [
              "<div>\n",
              "<style scoped>\n",
              "    .dataframe tbody tr th:only-of-type {\n",
              "        vertical-align: middle;\n",
              "    }\n",
              "\n",
              "    .dataframe tbody tr th {\n",
              "        vertical-align: top;\n",
              "    }\n",
              "\n",
              "    .dataframe thead th {\n",
              "        text-align: right;\n",
              "    }\n",
              "</style>\n",
              "<table border=\"1\" class=\"dataframe\">\n",
              "  <thead>\n",
              "    <tr style=\"text-align: right;\">\n",
              "      <th></th>\n",
              "      <th>name_1</th>\n",
              "      <th>name_2</th>\n",
              "      <th>is_duplicate</th>\n",
              "    </tr>\n",
              "    <tr>\n",
              "      <th>pair_id</th>\n",
              "      <th></th>\n",
              "      <th></th>\n",
              "      <th></th>\n",
              "    </tr>\n",
              "  </thead>\n",
              "  <tbody>\n",
              "    <tr>\n",
              "      <th>40</th>\n",
              "      <td>isoliererzeugnisse grobrohrsdorf gmbh</td>\n",
              "      <td>total rumunia</td>\n",
              "      <td>0</td>\n",
              "    </tr>\n",
              "    <tr>\n",
              "      <th>410</th>\n",
              "      <td>dortmunder gussasphalt gmbh &amp; co. kg</td>\n",
              "      <td>bitoumina s.a.</td>\n",
              "      <td>0</td>\n",
              "    </tr>\n",
              "    <tr>\n",
              "      <th>440</th>\n",
              "      <td>celanese chemicals europe gmbh</td>\n",
              "      <td>inreco - emulsja sp. z o.o.</td>\n",
              "      <td>0</td>\n",
              "    </tr>\n",
              "    <tr>\n",
              "      <th>583</th>\n",
              "      <td>tremco illbruck group gmbh</td>\n",
              "      <td>wakol gmbh</td>\n",
              "      <td>0</td>\n",
              "    </tr>\n",
              "    <tr>\n",
              "      <th>681</th>\n",
              "      <td>rasco bitumentechnik gmbh</td>\n",
              "      <td>technpvinyl polymers india ltd.</td>\n",
              "      <td>0</td>\n",
              "    </tr>\n",
              "    <tr>\n",
              "      <th>...</th>\n",
              "      <td>...</td>\n",
              "      <td>...</td>\n",
              "      <td>...</td>\n",
              "    </tr>\n",
              "    <tr>\n",
              "      <th>497197</th>\n",
              "      <td>binne &amp; sohn gmbh &amp; co kg</td>\n",
              "      <td>buscher hoffmann</td>\n",
              "      <td>0</td>\n",
              "    </tr>\n",
              "    <tr>\n",
              "      <th>497306</th>\n",
              "      <td>mct gmbh &amp; co. kg</td>\n",
              "      <td>valli zabban</td>\n",
              "      <td>0</td>\n",
              "    </tr>\n",
              "    <tr>\n",
              "      <th>497366</th>\n",
              "      <td>mct misch &amp; compoundier technik gmbh</td>\n",
              "      <td>nknh</td>\n",
              "      <td>0</td>\n",
              "    </tr>\n",
              "    <tr>\n",
              "      <th>497772</th>\n",
              "      <td>saint-gobain isover austria gmbh</td>\n",
              "      <td>soprema soprema sas</td>\n",
              "      <td>0</td>\n",
              "    </tr>\n",
              "    <tr>\n",
              "      <th>497798</th>\n",
              "      <td>famos gmbh &amp; co. kg</td>\n",
              "      <td>soprema drummondville</td>\n",
              "      <td>0</td>\n",
              "    </tr>\n",
              "  </tbody>\n",
              "</table>\n",
              "<p>3382 rows × 3 columns</p>\n",
              "</div>"
            ],
            "text/plain": [
              "                                        name_1  ... is_duplicate\n",
              "pair_id                                         ...             \n",
              "40       isoliererzeugnisse grobrohrsdorf gmbh  ...            0\n",
              "410       dortmunder gussasphalt gmbh & co. kg  ...            0\n",
              "440             celanese chemicals europe gmbh  ...            0\n",
              "583                 tremco illbruck group gmbh  ...            0\n",
              "681                  rasco bitumentechnik gmbh  ...            0\n",
              "...                                        ...  ...          ...\n",
              "497197               binne & sohn gmbh & co kg  ...            0\n",
              "497306                       mct gmbh & co. kg  ...            0\n",
              "497366    mct misch & compoundier technik gmbh  ...            0\n",
              "497772        saint-gobain isover austria gmbh  ...            0\n",
              "497798                     famos gmbh & co. kg  ...            0\n",
              "\n",
              "[3382 rows x 3 columns]"
            ]
          },
          "metadata": {
            "tags": []
          },
          "execution_count": 21
        }
      ]
    },
    {
      "cell_type": "code",
      "metadata": {
        "id": "RdSeUND3oJyM",
        "colab": {
          "base_uri": "https://localhost:8080/"
        },
        "outputId": "867f76ad-d85d-471c-badc-8a641a2273f4"
      },
      "source": [
        "legal_entities = [\"ltd.\", \"co.\", \"inc.\", \"b.v.\", \"s.c.r.l.\", \"gmbh\", \"pvt.\"]\n",
        "\n",
        "for entity in tqdm(legal_entities):\n",
        "    train.replace(re.compile(f\"\\s+{entity}\\s*\"), \"\", inplace=True)\n",
        "    test.replace(re.compile(f\"\\s+{entity}\\s*\"), \"\", inplace=True)"
      ],
      "execution_count": null,
      "outputs": [
        {
          "output_type": "stream",
          "text": [
            "100%|██████████| 7/7 [00:14<00:00,  2.12s/it]\n"
          ],
          "name": "stderr"
        }
      ]
    },
    {
      "cell_type": "code",
      "metadata": {
        "id": "Yy7qpqP-oJyM",
        "colab": {
          "base_uri": "https://localhost:8080/",
          "height": 235
        },
        "outputId": "8b9685ab-d5af-4e25-a114-424804f233f5"
      },
      "source": [
        "train.head()"
      ],
      "execution_count": null,
      "outputs": [
        {
          "output_type": "execute_result",
          "data": {
            "text/html": [
              "<div>\n",
              "<style scoped>\n",
              "    .dataframe tbody tr th:only-of-type {\n",
              "        vertical-align: middle;\n",
              "    }\n",
              "\n",
              "    .dataframe tbody tr th {\n",
              "        vertical-align: top;\n",
              "    }\n",
              "\n",
              "    .dataframe thead th {\n",
              "        text-align: right;\n",
              "    }\n",
              "</style>\n",
              "<table border=\"1\" class=\"dataframe\">\n",
              "  <thead>\n",
              "    <tr style=\"text-align: right;\">\n",
              "      <th></th>\n",
              "      <th>name_1</th>\n",
              "      <th>name_2</th>\n",
              "      <th>is_duplicate</th>\n",
              "    </tr>\n",
              "    <tr>\n",
              "      <th>pair_id</th>\n",
              "      <th></th>\n",
              "      <th></th>\n",
              "      <th></th>\n",
              "    </tr>\n",
              "  </thead>\n",
              "  <tbody>\n",
              "    <tr>\n",
              "      <th>1</th>\n",
              "      <td>iko industries</td>\n",
              "      <td>enormous industrial trade,</td>\n",
              "      <td>0</td>\n",
              "    </tr>\n",
              "    <tr>\n",
              "      <th>2</th>\n",
              "      <td>apcotex industries</td>\n",
              "      <td>technocraft industries (india)</td>\n",
              "      <td>0</td>\n",
              "    </tr>\n",
              "    <tr>\n",
              "      <th>3</th>\n",
              "      <td>rishichem distributors,</td>\n",
              "      <td>dsa</td>\n",
              "      <td>0</td>\n",
              "    </tr>\n",
              "    <tr>\n",
              "      <th>4</th>\n",
              "      <td>powermax rubber factory</td>\n",
              "      <td>co. one</td>\n",
              "      <td>0</td>\n",
              "    </tr>\n",
              "    <tr>\n",
              "      <th>5</th>\n",
              "      <td>tress a/s</td>\n",
              "      <td>longyou industries park zhejiang</td>\n",
              "      <td>0</td>\n",
              "    </tr>\n",
              "  </tbody>\n",
              "</table>\n",
              "</div>"
            ],
            "text/plain": [
              "                          name_1  ... is_duplicate\n",
              "pair_id                           ...             \n",
              "1                 iko industries  ...            0\n",
              "2             apcotex industries  ...            0\n",
              "3        rishichem distributors,  ...            0\n",
              "4        powermax rubber factory  ...            0\n",
              "5                      tress a/s  ...            0\n",
              "\n",
              "[5 rows x 3 columns]"
            ]
          },
          "metadata": {
            "tags": []
          },
          "execution_count": 23
        }
      ]
    },
    {
      "cell_type": "code",
      "metadata": {
        "id": "i3bf0mTyoJyM",
        "colab": {
          "base_uri": "https://localhost:8080/",
          "height": 235
        },
        "outputId": "0f411721-81f6-4d8f-a3c4-06d5fd46eada"
      },
      "source": [
        "test.head()"
      ],
      "execution_count": null,
      "outputs": [
        {
          "output_type": "execute_result",
          "data": {
            "text/html": [
              "<div>\n",
              "<style scoped>\n",
              "    .dataframe tbody tr th:only-of-type {\n",
              "        vertical-align: middle;\n",
              "    }\n",
              "\n",
              "    .dataframe tbody tr th {\n",
              "        vertical-align: top;\n",
              "    }\n",
              "\n",
              "    .dataframe thead th {\n",
              "        text-align: right;\n",
              "    }\n",
              "</style>\n",
              "<table border=\"1\" class=\"dataframe\">\n",
              "  <thead>\n",
              "    <tr style=\"text-align: right;\">\n",
              "      <th></th>\n",
              "      <th>name_1</th>\n",
              "      <th>name_2</th>\n",
              "    </tr>\n",
              "    <tr>\n",
              "      <th>pair_id</th>\n",
              "      <th></th>\n",
              "      <th></th>\n",
              "    </tr>\n",
              "  </thead>\n",
              "  <tbody>\n",
              "    <tr>\n",
              "      <th>1</th>\n",
              "      <td>sun blinds decoration</td>\n",
              "      <td>indl de cuautitlan sa cv</td>\n",
              "    </tr>\n",
              "    <tr>\n",
              "      <th>2</th>\n",
              "      <td>eih</td>\n",
              "      <td>dongguan wei shi plastic product,</td>\n",
              "    </tr>\n",
              "    <tr>\n",
              "      <th>3</th>\n",
              "      <td>jsh(hk)</td>\n",
              "      <td>arab shipbuilding and repair yard c</td>\n",
              "    </tr>\n",
              "    <tr>\n",
              "      <th>4</th>\n",
              "      <td>better industrial</td>\n",
              "      <td>farmacap industria eercio</td>\n",
              "    </tr>\n",
              "    <tr>\n",
              "      <th>5</th>\n",
              "      <td>equipos inoxidables del norte sa de cv</td>\n",
              "      <td>bel</td>\n",
              "    </tr>\n",
              "  </tbody>\n",
              "</table>\n",
              "</div>"
            ],
            "text/plain": [
              "                                         name_1                               name_2\n",
              "pair_id                                                                             \n",
              "1                         sun blinds decoration             indl de cuautitlan sa cv\n",
              "2                                           eih    dongguan wei shi plastic product,\n",
              "3                                       jsh(hk)  arab shipbuilding and repair yard c\n",
              "4                             better industrial            farmacap industria eercio\n",
              "5        equipos inoxidables del norte sa de cv                                  bel"
            ]
          },
          "metadata": {
            "tags": []
          },
          "execution_count": 24
        }
      ]
    },
    {
      "cell_type": "code",
      "metadata": {
        "id": "fP7IzyzdoJyM"
      },
      "source": [
        "train.replace(re.compile(r\"\\s+\\(.*\\)\"), \"\", inplace=True)\n",
        "test.replace(re.compile(r\"\\s+\\(.*\\)\"), \"\", inplace=True)"
      ],
      "execution_count": null,
      "outputs": []
    },
    {
      "cell_type": "code",
      "metadata": {
        "id": "49DrBdtsoJyN",
        "colab": {
          "base_uri": "https://localhost:8080/"
        },
        "outputId": "40c795de-a2ca-429d-ebc7-8913210e4b00"
      },
      "source": [
        "for country in tqdm(countries):\n",
        "    train.replace(re.compile(country), \"\", inplace=True)\n",
        "    test.replace(re.compile(country), \"\", inplace=True)"
      ],
      "execution_count": null,
      "outputs": [
        {
          "output_type": "stream",
          "text": [
            "100%|██████████| 249/249 [06:28<00:00,  1.56s/it]\n"
          ],
          "name": "stderr"
        }
      ]
    },
    {
      "cell_type": "code",
      "metadata": {
        "id": "EdJX26aCoJyN"
      },
      "source": [
        "train.replace(re.compile(r\"[^\\w\\s]\"), \"\", inplace=True)\n",
        "test.replace(re.compile(r\"[^\\w\\s]\"), \"\", inplace=True)"
      ],
      "execution_count": null,
      "outputs": []
    },
    {
      "cell_type": "code",
      "metadata": {
        "id": "xODtXZH9oJyN",
        "colab": {
          "base_uri": "https://localhost:8080/",
          "height": 545
        },
        "outputId": "9713d2d9-f213-433d-e11f-fd6be9623a7a"
      },
      "source": [
        "train[:15]"
      ],
      "execution_count": null,
      "outputs": [
        {
          "output_type": "execute_result",
          "data": {
            "text/html": [
              "<div>\n",
              "<style scoped>\n",
              "    .dataframe tbody tr th:only-of-type {\n",
              "        vertical-align: middle;\n",
              "    }\n",
              "\n",
              "    .dataframe tbody tr th {\n",
              "        vertical-align: top;\n",
              "    }\n",
              "\n",
              "    .dataframe thead th {\n",
              "        text-align: right;\n",
              "    }\n",
              "</style>\n",
              "<table border=\"1\" class=\"dataframe\">\n",
              "  <thead>\n",
              "    <tr style=\"text-align: right;\">\n",
              "      <th></th>\n",
              "      <th>name_1</th>\n",
              "      <th>name_2</th>\n",
              "      <th>is_duplicate</th>\n",
              "    </tr>\n",
              "    <tr>\n",
              "      <th>pair_id</th>\n",
              "      <th></th>\n",
              "      <th></th>\n",
              "      <th></th>\n",
              "    </tr>\n",
              "  </thead>\n",
              "  <tbody>\n",
              "    <tr>\n",
              "      <th>1</th>\n",
              "      <td>iko industries</td>\n",
              "      <td>enormous industrial trade</td>\n",
              "      <td>0</td>\n",
              "    </tr>\n",
              "    <tr>\n",
              "      <th>2</th>\n",
              "      <td>apcotex industries</td>\n",
              "      <td>technocraft industries</td>\n",
              "      <td>0</td>\n",
              "    </tr>\n",
              "    <tr>\n",
              "      <th>3</th>\n",
              "      <td>rishichem distributors</td>\n",
              "      <td>dsa</td>\n",
              "      <td>0</td>\n",
              "    </tr>\n",
              "    <tr>\n",
              "      <th>4</th>\n",
              "      <td>powermax rubber factory</td>\n",
              "      <td>co one</td>\n",
              "      <td>0</td>\n",
              "    </tr>\n",
              "    <tr>\n",
              "      <th>5</th>\n",
              "      <td>tress as</td>\n",
              "      <td>longyou industries park zhejiang</td>\n",
              "      <td>0</td>\n",
              "    </tr>\n",
              "    <tr>\n",
              "      <th>6</th>\n",
              "      <td>wpt  sa de cv</td>\n",
              "      <td>hopkins mfg de  s de rl de cv</td>\n",
              "      <td>0</td>\n",
              "    </tr>\n",
              "    <tr>\n",
              "      <th>7</th>\n",
              "      <td>national bank of</td>\n",
              "      <td>action international</td>\n",
              "      <td>0</td>\n",
              "    </tr>\n",
              "    <tr>\n",
              "      <th>8</th>\n",
              "      <td>citibank korea</td>\n",
              "      <td>kyor</td>\n",
              "      <td>0</td>\n",
              "    </tr>\n",
              "    <tr>\n",
              "      <th>9</th>\n",
              "      <td>prettl electric del bajio sa de cv</td>\n",
              "      <td>bva</td>\n",
              "      <td>0</td>\n",
              "    </tr>\n",
              "    <tr>\n",
              "      <th>10</th>\n",
              "      <td>beijing zhongyi rongda tech trading</td>\n",
              "      <td>n j international</td>\n",
              "      <td>0</td>\n",
              "    </tr>\n",
              "    <tr>\n",
              "      <th>11</th>\n",
              "      <td>riintl</td>\n",
              "      <td>rass mfg</td>\n",
              "      <td>0</td>\n",
              "    </tr>\n",
              "    <tr>\n",
              "      <th>12</th>\n",
              "      <td>angle industries</td>\n",
              "      <td>cba industries sdn bhd</td>\n",
              "      <td>0</td>\n",
              "    </tr>\n",
              "    <tr>\n",
              "      <th>13</th>\n",
              "      <td>bestocean worldwide logistics</td>\n",
              "      <td>mandate logistics pte</td>\n",
              "      <td>0</td>\n",
              "    </tr>\n",
              "    <tr>\n",
              "      <th>14</th>\n",
              "      <td>uni trans illinoissolidated</td>\n",
              "      <td>suntrans international</td>\n",
              "      <td>0</td>\n",
              "    </tr>\n",
              "    <tr>\n",
              "      <th>15</th>\n",
              "      <td>warehouse jonesboro</td>\n",
              "      <td>s k international</td>\n",
              "      <td>0</td>\n",
              "    </tr>\n",
              "  </tbody>\n",
              "</table>\n",
              "</div>"
            ],
            "text/plain": [
              "                                      name_1  ... is_duplicate\n",
              "pair_id                                       ...             \n",
              "1                             iko industries  ...            0\n",
              "2                         apcotex industries  ...            0\n",
              "3                     rishichem distributors  ...            0\n",
              "4                    powermax rubber factory  ...            0\n",
              "5                                   tress as  ...            0\n",
              "6                              wpt  sa de cv  ...            0\n",
              "7                           national bank of  ...            0\n",
              "8                             citibank korea  ...            0\n",
              "9         prettl electric del bajio sa de cv  ...            0\n",
              "10       beijing zhongyi rongda tech trading  ...            0\n",
              "11                                    riintl  ...            0\n",
              "12                          angle industries  ...            0\n",
              "13             bestocean worldwide logistics  ...            0\n",
              "14               uni trans illinoissolidated  ...            0\n",
              "15                       warehouse jonesboro  ...            0\n",
              "\n",
              "[15 rows x 3 columns]"
            ]
          },
          "metadata": {
            "tags": []
          },
          "execution_count": 28
        }
      ]
    },
    {
      "cell_type": "code",
      "metadata": {
        "id": "Gq4WhS6noJyN",
        "colab": {
          "base_uri": "https://localhost:8080/",
          "height": 545
        },
        "outputId": "5553a790-0d0d-4bbd-f60c-2b06b93f1455"
      },
      "source": [
        "test[:15]"
      ],
      "execution_count": null,
      "outputs": [
        {
          "output_type": "execute_result",
          "data": {
            "text/html": [
              "<div>\n",
              "<style scoped>\n",
              "    .dataframe tbody tr th:only-of-type {\n",
              "        vertical-align: middle;\n",
              "    }\n",
              "\n",
              "    .dataframe tbody tr th {\n",
              "        vertical-align: top;\n",
              "    }\n",
              "\n",
              "    .dataframe thead th {\n",
              "        text-align: right;\n",
              "    }\n",
              "</style>\n",
              "<table border=\"1\" class=\"dataframe\">\n",
              "  <thead>\n",
              "    <tr style=\"text-align: right;\">\n",
              "      <th></th>\n",
              "      <th>name_1</th>\n",
              "      <th>name_2</th>\n",
              "    </tr>\n",
              "    <tr>\n",
              "      <th>pair_id</th>\n",
              "      <th></th>\n",
              "      <th></th>\n",
              "    </tr>\n",
              "  </thead>\n",
              "  <tbody>\n",
              "    <tr>\n",
              "      <th>1</th>\n",
              "      <td>sun blinds decoration</td>\n",
              "      <td>indl de cuautitlan sa cv</td>\n",
              "    </tr>\n",
              "    <tr>\n",
              "      <th>2</th>\n",
              "      <td>eih</td>\n",
              "      <td>dongguan wei shi plastic product</td>\n",
              "    </tr>\n",
              "    <tr>\n",
              "      <th>3</th>\n",
              "      <td>jshhk</td>\n",
              "      <td>arab shipbuilding and repair yard c</td>\n",
              "    </tr>\n",
              "    <tr>\n",
              "      <th>4</th>\n",
              "      <td>better industrial</td>\n",
              "      <td>farmacap industria eercio</td>\n",
              "    </tr>\n",
              "    <tr>\n",
              "      <th>5</th>\n",
              "      <td>equipos inoxidables del norte sa de cv</td>\n",
              "      <td>bel</td>\n",
              "    </tr>\n",
              "    <tr>\n",
              "      <th>6</th>\n",
              "      <td>afton chemical industria de aditivos</td>\n",
              "      <td>gigi industries</td>\n",
              "    </tr>\n",
              "    <tr>\n",
              "      <th>7</th>\n",
              "      <td>sumec international technology</td>\n",
              "      <td>advanced polymer technology</td>\n",
              "    </tr>\n",
              "    <tr>\n",
              "      <th>8</th>\n",
              "      <td>intermax imp  exp</td>\n",
              "      <td>ningbo jiahui huamao imp  exp</td>\n",
              "    </tr>\n",
              "    <tr>\n",
              "      <th>9</th>\n",
              "      <td>precision ice</td>\n",
              "      <td>uci</td>\n",
              "    </tr>\n",
              "    <tr>\n",
              "      <th>10</th>\n",
              "      <td>dongguan yifuposite plastics  rubber products</td>\n",
              "      <td>ge plastics shanghai</td>\n",
              "    </tr>\n",
              "    <tr>\n",
              "      <th>11</th>\n",
              "      <td>garments dongguan yang was</td>\n",
              "      <td>commune</td>\n",
              "    </tr>\n",
              "    <tr>\n",
              "      <th>12</th>\n",
              "      <td>dih wei industries</td>\n",
              "      <td>dynal industries sa</td>\n",
              "    </tr>\n",
              "    <tr>\n",
              "      <th>13</th>\n",
              "      <td>dow brasil industria eercio de produtos quimic...</td>\n",
              "      <td>asia industrial textile</td>\n",
              "    </tr>\n",
              "    <tr>\n",
              "      <th>14</th>\n",
              "      <td>mb</td>\n",
              "      <td>w b mason</td>\n",
              "    </tr>\n",
              "    <tr>\n",
              "      <th>15</th>\n",
              "      <td>green forest products llc</td>\n",
              "      <td>ict</td>\n",
              "    </tr>\n",
              "  </tbody>\n",
              "</table>\n",
              "</div>"
            ],
            "text/plain": [
              "                                                    name_1                               name_2\n",
              "pair_id                                                                                        \n",
              "1                                    sun blinds decoration             indl de cuautitlan sa cv\n",
              "2                                                      eih     dongguan wei shi plastic product\n",
              "3                                                    jshhk  arab shipbuilding and repair yard c\n",
              "4                                        better industrial            farmacap industria eercio\n",
              "5                   equipos inoxidables del norte sa de cv                                  bel\n",
              "6                     afton chemical industria de aditivos                      gigi industries\n",
              "7                           sumec international technology          advanced polymer technology\n",
              "8                                        intermax imp  exp        ningbo jiahui huamao imp  exp\n",
              "9                                            precision ice                                  uci\n",
              "10           dongguan yifuposite plastics  rubber products                 ge plastics shanghai\n",
              "11                              garments dongguan yang was                              commune\n",
              "12                                      dih wei industries                  dynal industries sa\n",
              "13       dow brasil industria eercio de produtos quimic...              asia industrial textile\n",
              "14                                                      mb                            w b mason\n",
              "15                               green forest products llc                                  ict"
            ]
          },
          "metadata": {
            "tags": []
          },
          "execution_count": 29
        }
      ]
    },
    {
      "cell_type": "markdown",
      "metadata": {
        "id": "oPiKZ-W-oJyN"
      },
      "source": [
        "# Простые метрики сходства строк"
      ]
    },
    {
      "cell_type": "markdown",
      "metadata": {
        "id": "vRDe5aoN-lnp"
      },
      "source": [
        "Косинусово сходство"
      ]
    },
    {
      "cell_type": "code",
      "metadata": {
        "id": "Qxm7EB3gA6S-"
      },
      "source": [
        "import pandas as pd\n",
        "from sklearn.feature_extraction.text import TfidfVectorizer\n",
        "from sklearn.metrics.pairwise import paired_cosine_distances as pcd\n",
        "\n",
        "clf = TfidfVectorizer()\n",
        "\n",
        "clf.fit(train['name_1'] + \" \" + train['name_2'])\n",
        "\n",
        "A = clf.transform(train['name_1'])\n",
        "B = clf.transform(train['name_2'])\n",
        "\n",
        "cosine = 1 - pcd(A, B)\n",
        "\n",
        "train['tfidf_cosine'] = cosine"
      ],
      "execution_count": null,
      "outputs": []
    },
    {
      "cell_type": "code",
      "metadata": {
        "colab": {
          "base_uri": "https://localhost:8080/",
          "height": 1000
        },
        "id": "YweYKovvBlF0",
        "outputId": "8108b839-4e13-446d-8fb0-7871091ca802"
      },
      "source": [
        "train.sample(30)"
      ],
      "execution_count": null,
      "outputs": [
        {
          "output_type": "execute_result",
          "data": {
            "text/html": [
              "<div>\n",
              "<style scoped>\n",
              "    .dataframe tbody tr th:only-of-type {\n",
              "        vertical-align: middle;\n",
              "    }\n",
              "\n",
              "    .dataframe tbody tr th {\n",
              "        vertical-align: top;\n",
              "    }\n",
              "\n",
              "    .dataframe thead th {\n",
              "        text-align: right;\n",
              "    }\n",
              "</style>\n",
              "<table border=\"1\" class=\"dataframe\">\n",
              "  <thead>\n",
              "    <tr style=\"text-align: right;\">\n",
              "      <th></th>\n",
              "      <th>name_1</th>\n",
              "      <th>name_2</th>\n",
              "      <th>is_duplicate</th>\n",
              "      <th>tfidf_cosine</th>\n",
              "    </tr>\n",
              "    <tr>\n",
              "      <th>pair_id</th>\n",
              "      <th></th>\n",
              "      <th></th>\n",
              "      <th></th>\n",
              "      <th></th>\n",
              "    </tr>\n",
              "  </thead>\n",
              "  <tbody>\n",
              "    <tr>\n",
              "      <th>51281</th>\n",
              "      <td>miyasaka polymer</td>\n",
              "      <td>kraton polymers us</td>\n",
              "      <td>0</td>\n",
              "      <td>-2.220446e-16</td>\n",
              "    </tr>\n",
              "    <tr>\n",
              "      <th>345075</th>\n",
              "      <td>valeo friction materials  private</td>\n",
              "      <td>uci</td>\n",
              "      <td>0</td>\n",
              "      <td>0.000000e+00</td>\n",
              "    </tr>\n",
              "    <tr>\n",
              "      <th>323160</th>\n",
              "      <td>imperalum  sociedadeercial de revestimentos e ...</td>\n",
              "      <td>porr ag</td>\n",
              "      <td>0</td>\n",
              "      <td>0.000000e+00</td>\n",
              "    </tr>\n",
              "    <tr>\n",
              "      <th>397761</th>\n",
              "      <td>atturo tire</td>\n",
              "      <td>sr tyres</td>\n",
              "      <td>0</td>\n",
              "      <td>0.000000e+00</td>\n",
              "    </tr>\n",
              "    <tr>\n",
              "      <th>294230</th>\n",
              "      <td>qingdao fest logistics</td>\n",
              "      <td>stalori s a</td>\n",
              "      <td>0</td>\n",
              "      <td>0.000000e+00</td>\n",
              "    </tr>\n",
              "    <tr>\n",
              "      <th>221535</th>\n",
              "      <td>qafelah al mahra trading est</td>\n",
              "      <td>ayyad al rashidi trading est</td>\n",
              "      <td>0</td>\n",
              "      <td>3.294840e-01</td>\n",
              "    </tr>\n",
              "    <tr>\n",
              "      <th>299961</th>\n",
              "      <td>monty industries sa de cv</td>\n",
              "      <td>grupo american industries sa de cv</td>\n",
              "      <td>0</td>\n",
              "      <td>3.366112e-01</td>\n",
              "    </tr>\n",
              "    <tr>\n",
              "      <th>451682</th>\n",
              "      <td>cdm systems</td>\n",
              "      <td>motherson sumi systems</td>\n",
              "      <td>0</td>\n",
              "      <td>2.048167e-01</td>\n",
              "    </tr>\n",
              "    <tr>\n",
              "      <th>306717</th>\n",
              "      <td>jas forwarding de  sa de c</td>\n",
              "      <td>skf de  sa de cv</td>\n",
              "      <td>0</td>\n",
              "      <td>3.470251e-01</td>\n",
              "    </tr>\n",
              "    <tr>\n",
              "      <th>8733</th>\n",
              "      <td>banco de credito e inversiones av</td>\n",
              "      <td>inversionesalmar 2009 ca</td>\n",
              "      <td>0</td>\n",
              "      <td>-2.220446e-16</td>\n",
              "    </tr>\n",
              "    <tr>\n",
              "      <th>359036</th>\n",
              "      <td>srl n flair</td>\n",
              "      <td>aim international</td>\n",
              "      <td>0</td>\n",
              "      <td>-2.220446e-16</td>\n",
              "    </tr>\n",
              "    <tr>\n",
              "      <th>262782</th>\n",
              "      <td>wiegand sa cv</td>\n",
              "      <td>al wadaah trading  services</td>\n",
              "      <td>0</td>\n",
              "      <td>-2.220446e-16</td>\n",
              "    </tr>\n",
              "    <tr>\n",
              "      <th>311194</th>\n",
              "      <td>agility logisticsp</td>\n",
              "      <td>djr logistics</td>\n",
              "      <td>0</td>\n",
              "      <td>0.000000e+00</td>\n",
              "    </tr>\n",
              "    <tr>\n",
              "      <th>103042</th>\n",
              "      <td>isuzu motors  private</td>\n",
              "      <td>dip plc</td>\n",
              "      <td>0</td>\n",
              "      <td>-2.220446e-16</td>\n",
              "    </tr>\n",
              "    <tr>\n",
              "      <th>443163</th>\n",
              "      <td>regupol america llc</td>\n",
              "      <td>apparel  merchandising</td>\n",
              "      <td>0</td>\n",
              "      <td>-2.220446e-16</td>\n",
              "    </tr>\n",
              "    <tr>\n",
              "      <th>323187</th>\n",
              "      <td>dimaro srl</td>\n",
              "      <td>shalimar wires industries</td>\n",
              "      <td>0</td>\n",
              "      <td>0.000000e+00</td>\n",
              "    </tr>\n",
              "    <tr>\n",
              "      <th>202613</th>\n",
              "      <td>nri</td>\n",
              "      <td>green ray medical equipment</td>\n",
              "      <td>0</td>\n",
              "      <td>0.000000e+00</td>\n",
              "    </tr>\n",
              "    <tr>\n",
              "      <th>33110</th>\n",
              "      <td>bestocean worldwide logistics</td>\n",
              "      <td>red oak logistics</td>\n",
              "      <td>0</td>\n",
              "      <td>9.701592e-02</td>\n",
              "    </tr>\n",
              "    <tr>\n",
              "      <th>156103</th>\n",
              "      <td>poly chemicals</td>\n",
              "      <td>s k international</td>\n",
              "      <td>0</td>\n",
              "      <td>0.000000e+00</td>\n",
              "    </tr>\n",
              "    <tr>\n",
              "      <th>333340</th>\n",
              "      <td>swat tyre  rubber</td>\n",
              "      <td>shanghai type  rubber</td>\n",
              "      <td>0</td>\n",
              "      <td>1.052220e-01</td>\n",
              "    </tr>\n",
              "    <tr>\n",
              "      <th>28853</th>\n",
              "      <td>ram</td>\n",
              "      <td>intermodal gc sa de cv</td>\n",
              "      <td>0</td>\n",
              "      <td>0.000000e+00</td>\n",
              "    </tr>\n",
              "    <tr>\n",
              "      <th>145696</th>\n",
              "      <td>world asia logistics</td>\n",
              "      <td>evercord logistics</td>\n",
              "      <td>0</td>\n",
              "      <td>1.380179e-01</td>\n",
              "    </tr>\n",
              "    <tr>\n",
              "      <th>481397</th>\n",
              "      <td>pcs</td>\n",
              "      <td>click4 shipcom</td>\n",
              "      <td>0</td>\n",
              "      <td>0.000000e+00</td>\n",
              "    </tr>\n",
              "    <tr>\n",
              "      <th>450115</th>\n",
              "      <td>geodis wilson nouvelle caledonie</td>\n",
              "      <td>geodis wilson group</td>\n",
              "      <td>0</td>\n",
              "      <td>5.778664e-01</td>\n",
              "    </tr>\n",
              "    <tr>\n",
              "      <th>446334</th>\n",
              "      <td>wynn expressp</td>\n",
              "      <td>monntan hawk express</td>\n",
              "      <td>0</td>\n",
              "      <td>-2.220446e-16</td>\n",
              "    </tr>\n",
              "    <tr>\n",
              "      <th>248192</th>\n",
              "      <td>sr international</td>\n",
              "      <td>pervezs sons</td>\n",
              "      <td>0</td>\n",
              "      <td>-2.220446e-16</td>\n",
              "    </tr>\n",
              "    <tr>\n",
              "      <th>341002</th>\n",
              "      <td>streamline sports</td>\n",
              "      <td>cambe sport sarl</td>\n",
              "      <td>0</td>\n",
              "      <td>0.000000e+00</td>\n",
              "    </tr>\n",
              "    <tr>\n",
              "      <th>245144</th>\n",
              "      <td>crayons sporting goods</td>\n",
              "      <td>lb4 sport</td>\n",
              "      <td>0</td>\n",
              "      <td>0.000000e+00</td>\n",
              "    </tr>\n",
              "    <tr>\n",
              "      <th>278213</th>\n",
              "      <td>mayaporation</td>\n",
              "      <td>yamaha music  p</td>\n",
              "      <td>0</td>\n",
              "      <td>0.000000e+00</td>\n",
              "    </tr>\n",
              "    <tr>\n",
              "      <th>364911</th>\n",
              "      <td>superbeton spa</td>\n",
              "      <td>termocompo  industria termoplastica lda</td>\n",
              "      <td>0</td>\n",
              "      <td>-2.220446e-16</td>\n",
              "    </tr>\n",
              "  </tbody>\n",
              "</table>\n",
              "</div>"
            ],
            "text/plain": [
              "                                                    name_1  ...  tfidf_cosine\n",
              "pair_id                                                     ...              \n",
              "51281                                     miyasaka polymer  ... -2.220446e-16\n",
              "345075                   valeo friction materials  private  ...  0.000000e+00\n",
              "323160   imperalum  sociedadeercial de revestimentos e ...  ...  0.000000e+00\n",
              "397761                                         atturo tire  ...  0.000000e+00\n",
              "294230                              qingdao fest logistics  ...  0.000000e+00\n",
              "221535                        qafelah al mahra trading est  ...  3.294840e-01\n",
              "299961                           monty industries sa de cv  ...  3.366112e-01\n",
              "451682                                         cdm systems  ...  2.048167e-01\n",
              "306717                          jas forwarding de  sa de c  ...  3.470251e-01\n",
              "8733                     banco de credito e inversiones av  ... -2.220446e-16\n",
              "359036                                         srl n flair  ... -2.220446e-16\n",
              "262782                                       wiegand sa cv  ... -2.220446e-16\n",
              "311194                                  agility logisticsp  ...  0.000000e+00\n",
              "103042                               isuzu motors  private  ... -2.220446e-16\n",
              "443163                                 regupol america llc  ... -2.220446e-16\n",
              "323187                                          dimaro srl  ...  0.000000e+00\n",
              "202613                                                 nri  ...  0.000000e+00\n",
              "33110                        bestocean worldwide logistics  ...  9.701592e-02\n",
              "156103                                      poly chemicals  ...  0.000000e+00\n",
              "333340                                   swat tyre  rubber  ...  1.052220e-01\n",
              "28853                                                  ram  ...  0.000000e+00\n",
              "145696                                world asia logistics  ...  1.380179e-01\n",
              "481397                                                 pcs  ...  0.000000e+00\n",
              "450115                    geodis wilson nouvelle caledonie  ...  5.778664e-01\n",
              "446334                                       wynn expressp  ... -2.220446e-16\n",
              "248192                                    sr international  ... -2.220446e-16\n",
              "341002                                   streamline sports  ...  0.000000e+00\n",
              "245144                              crayons sporting goods  ...  0.000000e+00\n",
              "278213                                        mayaporation  ...  0.000000e+00\n",
              "364911                                      superbeton spa  ... -2.220446e-16\n",
              "\n",
              "[30 rows x 4 columns]"
            ]
          },
          "metadata": {
            "tags": []
          },
          "execution_count": 31
        }
      ]
    },
    {
      "cell_type": "code",
      "metadata": {
        "id": "xgTa8vqdoJyP",
        "colab": {
          "base_uri": "https://localhost:8080/",
          "height": 235
        },
        "outputId": "c416185b-86fa-490c-8b55-792931ed8ff2"
      },
      "source": [
        "train.head()"
      ],
      "execution_count": null,
      "outputs": [
        {
          "output_type": "execute_result",
          "data": {
            "text/html": [
              "<div>\n",
              "<style scoped>\n",
              "    .dataframe tbody tr th:only-of-type {\n",
              "        vertical-align: middle;\n",
              "    }\n",
              "\n",
              "    .dataframe tbody tr th {\n",
              "        vertical-align: top;\n",
              "    }\n",
              "\n",
              "    .dataframe thead th {\n",
              "        text-align: right;\n",
              "    }\n",
              "</style>\n",
              "<table border=\"1\" class=\"dataframe\">\n",
              "  <thead>\n",
              "    <tr style=\"text-align: right;\">\n",
              "      <th></th>\n",
              "      <th>name_1</th>\n",
              "      <th>name_2</th>\n",
              "      <th>is_duplicate</th>\n",
              "      <th>tfidf_cosine</th>\n",
              "    </tr>\n",
              "    <tr>\n",
              "      <th>pair_id</th>\n",
              "      <th></th>\n",
              "      <th></th>\n",
              "      <th></th>\n",
              "      <th></th>\n",
              "    </tr>\n",
              "  </thead>\n",
              "  <tbody>\n",
              "    <tr>\n",
              "      <th>1</th>\n",
              "      <td>iko industries</td>\n",
              "      <td>enormous industrial trade</td>\n",
              "      <td>0</td>\n",
              "      <td>1.110223e-16</td>\n",
              "    </tr>\n",
              "    <tr>\n",
              "      <th>2</th>\n",
              "      <td>apcotex industries</td>\n",
              "      <td>technocraft industries</td>\n",
              "      <td>0</td>\n",
              "      <td>1.311625e-01</td>\n",
              "    </tr>\n",
              "    <tr>\n",
              "      <th>3</th>\n",
              "      <td>rishichem distributors</td>\n",
              "      <td>dsa</td>\n",
              "      <td>0</td>\n",
              "      <td>0.000000e+00</td>\n",
              "    </tr>\n",
              "    <tr>\n",
              "      <th>4</th>\n",
              "      <td>powermax rubber factory</td>\n",
              "      <td>co one</td>\n",
              "      <td>0</td>\n",
              "      <td>0.000000e+00</td>\n",
              "    </tr>\n",
              "    <tr>\n",
              "      <th>5</th>\n",
              "      <td>tress as</td>\n",
              "      <td>longyou industries park zhejiang</td>\n",
              "      <td>0</td>\n",
              "      <td>-2.220446e-16</td>\n",
              "    </tr>\n",
              "  </tbody>\n",
              "</table>\n",
              "</div>"
            ],
            "text/plain": [
              "                          name_1  ...  tfidf_cosine\n",
              "pair_id                           ...              \n",
              "1                 iko industries  ...  1.110223e-16\n",
              "2             apcotex industries  ...  1.311625e-01\n",
              "3         rishichem distributors  ...  0.000000e+00\n",
              "4        powermax rubber factory  ...  0.000000e+00\n",
              "5                       tress as  ... -2.220446e-16\n",
              "\n",
              "[5 rows x 4 columns]"
            ]
          },
          "metadata": {
            "tags": []
          },
          "execution_count": 32
        }
      ]
    },
    {
      "cell_type": "code",
      "metadata": {
        "id": "m2vGQASDoJyP",
        "colab": {
          "base_uri": "https://localhost:8080/",
          "height": 235
        },
        "outputId": "a08d37d2-32b1-4f6c-fd30-cce5c2ac41d4"
      },
      "source": [
        "test.head()"
      ],
      "execution_count": null,
      "outputs": [
        {
          "output_type": "execute_result",
          "data": {
            "text/html": [
              "<div>\n",
              "<style scoped>\n",
              "    .dataframe tbody tr th:only-of-type {\n",
              "        vertical-align: middle;\n",
              "    }\n",
              "\n",
              "    .dataframe tbody tr th {\n",
              "        vertical-align: top;\n",
              "    }\n",
              "\n",
              "    .dataframe thead th {\n",
              "        text-align: right;\n",
              "    }\n",
              "</style>\n",
              "<table border=\"1\" class=\"dataframe\">\n",
              "  <thead>\n",
              "    <tr style=\"text-align: right;\">\n",
              "      <th></th>\n",
              "      <th>name_1</th>\n",
              "      <th>name_2</th>\n",
              "    </tr>\n",
              "    <tr>\n",
              "      <th>pair_id</th>\n",
              "      <th></th>\n",
              "      <th></th>\n",
              "    </tr>\n",
              "  </thead>\n",
              "  <tbody>\n",
              "    <tr>\n",
              "      <th>1</th>\n",
              "      <td>sun blinds decoration</td>\n",
              "      <td>indl de cuautitlan sa cv</td>\n",
              "    </tr>\n",
              "    <tr>\n",
              "      <th>2</th>\n",
              "      <td>eih</td>\n",
              "      <td>dongguan wei shi plastic product</td>\n",
              "    </tr>\n",
              "    <tr>\n",
              "      <th>3</th>\n",
              "      <td>jshhk</td>\n",
              "      <td>arab shipbuilding and repair yard c</td>\n",
              "    </tr>\n",
              "    <tr>\n",
              "      <th>4</th>\n",
              "      <td>better industrial</td>\n",
              "      <td>farmacap industria eercio</td>\n",
              "    </tr>\n",
              "    <tr>\n",
              "      <th>5</th>\n",
              "      <td>equipos inoxidables del norte sa de cv</td>\n",
              "      <td>bel</td>\n",
              "    </tr>\n",
              "  </tbody>\n",
              "</table>\n",
              "</div>"
            ],
            "text/plain": [
              "                                         name_1                               name_2\n",
              "pair_id                                                                             \n",
              "1                         sun blinds decoration             indl de cuautitlan sa cv\n",
              "2                                           eih     dongguan wei shi plastic product\n",
              "3                                         jshhk  arab shipbuilding and repair yard c\n",
              "4                             better industrial            farmacap industria eercio\n",
              "5        equipos inoxidables del norte sa de cv                                  bel"
            ]
          },
          "metadata": {
            "tags": []
          },
          "execution_count": 33
        }
      ]
    },
    {
      "cell_type": "code",
      "metadata": {
        "id": "UkA7jWZITV8y"
      },
      "source": [
        "clf = TfidfVectorizer()\n",
        "\n",
        "clf.fit(test['name_1'] + \" \" + test['name_2'])\n",
        "\n",
        "A = clf.transform(test['name_1'])\n",
        "B = clf.transform(test['name_2'])\n",
        "\n",
        "cosine = 1 - pcd(A, B)\n",
        "\n",
        "test['tfidf_cosine'] = cosine"
      ],
      "execution_count": null,
      "outputs": []
    },
    {
      "cell_type": "code",
      "metadata": {
        "colab": {
          "base_uri": "https://localhost:8080/",
          "height": 700
        },
        "id": "wsAHO_-vTjeK",
        "outputId": "8ba6e6d4-3e3e-43e1-b9d2-7633a7e721ed"
      },
      "source": [
        "test[40:60]"
      ],
      "execution_count": null,
      "outputs": [
        {
          "output_type": "execute_result",
          "data": {
            "text/html": [
              "<div>\n",
              "<style scoped>\n",
              "    .dataframe tbody tr th:only-of-type {\n",
              "        vertical-align: middle;\n",
              "    }\n",
              "\n",
              "    .dataframe tbody tr th {\n",
              "        vertical-align: top;\n",
              "    }\n",
              "\n",
              "    .dataframe thead th {\n",
              "        text-align: right;\n",
              "    }\n",
              "</style>\n",
              "<table border=\"1\" class=\"dataframe\">\n",
              "  <thead>\n",
              "    <tr style=\"text-align: right;\">\n",
              "      <th></th>\n",
              "      <th>name_1</th>\n",
              "      <th>name_2</th>\n",
              "      <th>tfidf_cosine</th>\n",
              "    </tr>\n",
              "    <tr>\n",
              "      <th>pair_id</th>\n",
              "      <th></th>\n",
              "      <th></th>\n",
              "      <th></th>\n",
              "    </tr>\n",
              "  </thead>\n",
              "  <tbody>\n",
              "    <tr>\n",
              "      <th>41</th>\n",
              "      <td>continental airtrol</td>\n",
              "      <td>continental powertrain usa llc</td>\n",
              "      <td>2.989800e-01</td>\n",
              "    </tr>\n",
              "    <tr>\n",
              "      <th>42</th>\n",
              "      <td>guangxing hardware  plastics</td>\n",
              "      <td>ga logisticsas</td>\n",
              "      <td>-2.220446e-16</td>\n",
              "    </tr>\n",
              "    <tr>\n",
              "      <th>43</th>\n",
              "      <td>gap</td>\n",
              "      <td>anchicos tecnologia e ingenieria sas</td>\n",
              "      <td>0.000000e+00</td>\n",
              "    </tr>\n",
              "    <tr>\n",
              "      <th>44</th>\n",
              "      <td>biscom</td>\n",
              "      <td>lae biscuits</td>\n",
              "      <td>0.000000e+00</td>\n",
              "    </tr>\n",
              "    <tr>\n",
              "      <th>45</th>\n",
              "      <td>olympia industries</td>\n",
              "      <td>balkrishna industria</td>\n",
              "      <td>0.000000e+00</td>\n",
              "    </tr>\n",
              "    <tr>\n",
              "      <th>46</th>\n",
              "      <td>maniarporation</td>\n",
              "      <td>minipak sas entrega en lugar de</td>\n",
              "      <td>0.000000e+00</td>\n",
              "    </tr>\n",
              "    <tr>\n",
              "      <th>47</th>\n",
              "      <td>camelot logistics</td>\n",
              "      <td>logistica essa sa de cv</td>\n",
              "      <td>0.000000e+00</td>\n",
              "    </tr>\n",
              "    <tr>\n",
              "      <th>48</th>\n",
              "      <td>orion plastics</td>\n",
              "      <td>evolution logistics</td>\n",
              "      <td>0.000000e+00</td>\n",
              "    </tr>\n",
              "    <tr>\n",
              "      <th>49</th>\n",
              "      <td>banglore heavy equipments</td>\n",
              "      <td>aim international</td>\n",
              "      <td>1.110223e-16</td>\n",
              "    </tr>\n",
              "    <tr>\n",
              "      <th>50</th>\n",
              "      <td>taraki sas</td>\n",
              "      <td>open vision general trading llc</td>\n",
              "      <td>0.000000e+00</td>\n",
              "    </tr>\n",
              "    <tr>\n",
              "      <th>51</th>\n",
              "      <td>servimex logistics</td>\n",
              "      <td>qingdao binjie international logistics</td>\n",
              "      <td>1.159039e-01</td>\n",
              "    </tr>\n",
              "    <tr>\n",
              "      <th>52</th>\n",
              "      <td>tianjin jinhang impexp trade</td>\n",
              "      <td>lakshmi imp  exp</td>\n",
              "      <td>-2.220446e-16</td>\n",
              "    </tr>\n",
              "    <tr>\n",
              "      <th>53</th>\n",
              "      <td>ventura interiors private</td>\n",
              "      <td>delex stereo private</td>\n",
              "      <td>7.859418e-02</td>\n",
              "    </tr>\n",
              "    <tr>\n",
              "      <th>54</th>\n",
              "      <td>i and i</td>\n",
              "      <td>exxonmobil asia pacific r  d</td>\n",
              "      <td>-2.220446e-16</td>\n",
              "    </tr>\n",
              "    <tr>\n",
              "      <th>55</th>\n",
              "      <td>unico logistics usa</td>\n",
              "      <td>rcs logistics</td>\n",
              "      <td>1.335765e-01</td>\n",
              "    </tr>\n",
              "    <tr>\n",
              "      <th>56</th>\n",
              "      <td>parker hannifin fluidnector</td>\n",
              "      <td>ict</td>\n",
              "      <td>0.000000e+00</td>\n",
              "    </tr>\n",
              "    <tr>\n",
              "      <th>57</th>\n",
              "      <td>dongguan packaging imp expof guangdong</td>\n",
              "      <td>n j international</td>\n",
              "      <td>0.000000e+00</td>\n",
              "    </tr>\n",
              "    <tr>\n",
              "      <th>58</th>\n",
              "      <td>adi</td>\n",
              "      <td>wrgrace</td>\n",
              "      <td>0.000000e+00</td>\n",
              "    </tr>\n",
              "    <tr>\n",
              "      <th>59</th>\n",
              "      <td>abud imp  exp</td>\n",
              "      <td>fujian sanmu imp  exp</td>\n",
              "      <td>2.712726e-01</td>\n",
              "    </tr>\n",
              "    <tr>\n",
              "      <th>60</th>\n",
              "      <td>foshan nanhai giant exhibition rubber  plastic</td>\n",
              "      <td>aero rubberinc</td>\n",
              "      <td>0.000000e+00</td>\n",
              "    </tr>\n",
              "  </tbody>\n",
              "</table>\n",
              "</div>"
            ],
            "text/plain": [
              "                                                 name_1  ...  tfidf_cosine\n",
              "pair_id                                                  ...              \n",
              "41                                  continental airtrol  ...  2.989800e-01\n",
              "42                         guangxing hardware  plastics  ... -2.220446e-16\n",
              "43                                                  gap  ...  0.000000e+00\n",
              "44                                               biscom  ...  0.000000e+00\n",
              "45                                   olympia industries  ...  0.000000e+00\n",
              "46                                       maniarporation  ...  0.000000e+00\n",
              "47                                    camelot logistics  ...  0.000000e+00\n",
              "48                                       orion plastics  ...  0.000000e+00\n",
              "49                            banglore heavy equipments  ...  1.110223e-16\n",
              "50                                           taraki sas  ...  0.000000e+00\n",
              "51                                   servimex logistics  ...  1.159039e-01\n",
              "52                         tianjin jinhang impexp trade  ... -2.220446e-16\n",
              "53                            ventura interiors private  ...  7.859418e-02\n",
              "54                                              i and i  ... -2.220446e-16\n",
              "55                                  unico logistics usa  ...  1.335765e-01\n",
              "56                          parker hannifin fluidnector  ...  0.000000e+00\n",
              "57               dongguan packaging imp expof guangdong  ...  0.000000e+00\n",
              "58                                                  adi  ...  0.000000e+00\n",
              "59                                        abud imp  exp  ...  2.712726e-01\n",
              "60       foshan nanhai giant exhibition rubber  plastic  ...  0.000000e+00\n",
              "\n",
              "[20 rows x 3 columns]"
            ]
          },
          "metadata": {
            "tags": []
          },
          "execution_count": 35
        }
      ]
    },
    {
      "cell_type": "markdown",
      "metadata": {
        "id": "xQOmpwhHoJyP"
      },
      "source": [
        "# Базовая модель"
      ]
    },
    {
      "cell_type": "code",
      "metadata": {
        "id": "yShbdRPQoJyQ"
      },
      "source": [
        "FTS=[\"tfidf_cosine\"]\n",
        "THR = 0.9"
      ],
      "execution_count": null,
      "outputs": []
    },
    {
      "cell_type": "code",
      "metadata": {
        "id": "4vD69VORoJyQ"
      },
      "source": [
        "split = StratifiedShuffleSplit(1, train_size=0.8, random_state=RS)\n",
        "tridx, cvidx = list(split.split(train[FTS], train[\"is_duplicate\"]))[0]"
      ],
      "execution_count": null,
      "outputs": []
    },
    {
      "cell_type": "markdown",
      "metadata": {
        "id": "KxtTYu6DEcDe"
      },
      "source": [
        "###Классификаторы"
      ]
    },
    {
      "cell_type": "markdown",
      "metadata": {
        "id": "fhf8DycyhO0T"
      },
      "source": [
        "Random Forest"
      ]
    },
    {
      "cell_type": "code",
      "metadata": {
        "colab": {
          "base_uri": "https://localhost:8080/"
        },
        "id": "KfJTjrDHfXv_",
        "outputId": "4a1c8818-fec4-459b-c2ba-e3886eb5206b"
      },
      "source": [
        "from sklearn import ensemble\n",
        "rf = ensemble.RandomForestClassifier(n_estimators = 1000)\n",
        "rf.fit(train.iloc[tridx][FTS].values,\n",
        "          train.iloc[tridx][\"is_duplicate\"].values)"
      ],
      "execution_count": null,
      "outputs": [
        {
          "output_type": "execute_result",
          "data": {
            "text/plain": [
              "RandomForestClassifier(bootstrap=True, ccp_alpha=0.0, class_weight=None,\n",
              "                       criterion='gini', max_depth=None, max_features='auto',\n",
              "                       max_leaf_nodes=None, max_samples=None,\n",
              "                       min_impurity_decrease=0.0, min_impurity_split=None,\n",
              "                       min_samples_leaf=1, min_samples_split=2,\n",
              "                       min_weight_fraction_leaf=0.0, n_estimators=1000,\n",
              "                       n_jobs=None, oob_score=False, random_state=None,\n",
              "                       verbose=0, warm_start=False)"
            ]
          },
          "metadata": {
            "tags": []
          },
          "execution_count": 38
        }
      ]
    },
    {
      "cell_type": "code",
      "metadata": {
        "id": "ahl56FT0i5pz"
      },
      "source": [
        "tr_preds_rf = rf.predict(train.iloc[tridx][FTS].values)\n",
        "cv_preds_rf = rf.predict(train.iloc[cvidx][FTS].values)"
      ],
      "execution_count": null,
      "outputs": []
    },
    {
      "cell_type": "code",
      "metadata": {
        "colab": {
          "base_uri": "https://localhost:8080/"
        },
        "id": "gjILUNWchUUZ",
        "outputId": "22723f4e-9a01-472e-f170-9e6af0153975"
      },
      "source": [
        "print(f1_score(train.iloc[tridx][\"is_duplicate\"].values, tr_preds_rf))\n",
        "print(f1_score(train.iloc[cvidx][\"is_duplicate\"].values, cv_preds_rf))"
      ],
      "execution_count": null,
      "outputs": [
        {
          "output_type": "stream",
          "text": [
            "0.900147383935151\n",
            "0.6764091858037578\n"
          ],
          "name": "stdout"
        }
      ]
    },
    {
      "cell_type": "markdown",
      "metadata": {
        "id": "Fg58hc_llWiL"
      },
      "source": [
        "Extremely Randomized Trees"
      ]
    },
    {
      "cell_type": "code",
      "metadata": {
        "colab": {
          "base_uri": "https://localhost:8080/"
        },
        "id": "iXxyPoPmk8e7",
        "outputId": "ea7a8b4b-e613-4782-c56c-d4c7a592348d"
      },
      "source": [
        "ert = ensemble.ExtraTreesClassifier(n_estimators = 1000)\n",
        "ert.fit(train.iloc[tridx][FTS].values,\n",
        "          train.iloc[tridx][\"is_duplicate\"].values)"
      ],
      "execution_count": null,
      "outputs": [
        {
          "output_type": "execute_result",
          "data": {
            "text/plain": [
              "ExtraTreesClassifier(bootstrap=False, ccp_alpha=0.0, class_weight=None,\n",
              "                     criterion='gini', max_depth=None, max_features='auto',\n",
              "                     max_leaf_nodes=None, max_samples=None,\n",
              "                     min_impurity_decrease=0.0, min_impurity_split=None,\n",
              "                     min_samples_leaf=1, min_samples_split=2,\n",
              "                     min_weight_fraction_leaf=0.0, n_estimators=1000,\n",
              "                     n_jobs=None, oob_score=False, random_state=None, verbose=0,\n",
              "                     warm_start=False)"
            ]
          },
          "metadata": {
            "tags": []
          },
          "execution_count": 41
        }
      ]
    },
    {
      "cell_type": "code",
      "metadata": {
        "id": "pqmetZ-ilm3O"
      },
      "source": [
        "tr_preds = ert.predict(train.iloc[tridx][FTS].values)\n",
        "cv_preds = ert.predict(train.iloc[cvidx][FTS].values)"
      ],
      "execution_count": null,
      "outputs": []
    },
    {
      "cell_type": "code",
      "metadata": {
        "colab": {
          "base_uri": "https://localhost:8080/"
        },
        "id": "RHR2WLLIlryE",
        "outputId": "88756b89-d069-441d-f8a3-b16e26d3c031"
      },
      "source": [
        "print(f1_score(train.iloc[tridx][\"is_duplicate\"].values, tr_preds))\n",
        "print(f1_score(train.iloc[cvidx][\"is_duplicate\"].values, cv_preds))"
      ],
      "execution_count": null,
      "outputs": [
        {
          "output_type": "stream",
          "text": [
            "0.900754925428098\n",
            "0.6773519163763065\n"
          ],
          "name": "stdout"
        }
      ]
    },
    {
      "cell_type": "markdown",
      "metadata": {
        "id": "vM_GnVY5sjDX"
      },
      "source": [
        "GradientBoostingClassifier"
      ]
    },
    {
      "cell_type": "code",
      "metadata": {
        "colab": {
          "base_uri": "https://localhost:8080/"
        },
        "id": "ye4U8rRzrKOE",
        "outputId": "96b953a5-e80f-44cd-a172-ed23b8dc5f6f"
      },
      "source": [
        "\n",
        "gbt = ensemble.GradientBoostingClassifier(n_estimators = 1000)\n",
        "#gbt.fit(gbt = ensemble.GradientBoostingClassifier(n_estimators = 1000)\n",
        "gbt.fit(train.iloc[tridx][FTS].values,\n",
        "          train.iloc[tridx][\"is_duplicate\"].values)"
      ],
      "execution_count": null,
      "outputs": [
        {
          "output_type": "execute_result",
          "data": {
            "text/plain": [
              "GradientBoostingClassifier(ccp_alpha=0.0, criterion='friedman_mse', init=None,\n",
              "                           learning_rate=0.1, loss='deviance', max_depth=3,\n",
              "                           max_features=None, max_leaf_nodes=None,\n",
              "                           min_impurity_decrease=0.0, min_impurity_split=None,\n",
              "                           min_samples_leaf=1, min_samples_split=2,\n",
              "                           min_weight_fraction_leaf=0.0, n_estimators=1000,\n",
              "                           n_iter_no_change=None, presort='deprecated',\n",
              "                           random_state=None, subsample=1.0, tol=0.0001,\n",
              "                           validation_fraction=0.1, verbose=0,\n",
              "                           warm_start=False)"
            ]
          },
          "metadata": {
            "tags": []
          },
          "execution_count": 44
        }
      ]
    },
    {
      "cell_type": "code",
      "metadata": {
        "id": "NUErn0GJreg3"
      },
      "source": [
        "y_train_pred = gbt.predict(train.iloc[tridx][FTS].values)\n",
        "y_test_pred = gbt.predict(train.iloc[cvidx][FTS].values)"
      ],
      "execution_count": null,
      "outputs": []
    },
    {
      "cell_type": "code",
      "metadata": {
        "colab": {
          "base_uri": "https://localhost:8080/"
        },
        "id": "WfM-UNUDro9O",
        "outputId": "0c9443b0-5172-46a1-ff84-5945df213ccc"
      },
      "source": [
        "print(f1_score(train.iloc[tridx][\"is_duplicate\"].values, y_train_pred))\n",
        "print(f1_score(train.iloc[cvidx][\"is_duplicate\"].values, y_test_pred))"
      ],
      "execution_count": null,
      "outputs": [
        {
          "output_type": "stream",
          "text": [
            "0.5934372818245287\n",
            "0.4735376044568246\n"
          ],
          "name": "stdout"
        }
      ]
    },
    {
      "cell_type": "code",
      "metadata": {
        "id": "TFtiwrElfX6D"
      },
      "source": [
        ""
      ],
      "execution_count": null,
      "outputs": []
    },
    {
      "cell_type": "markdown",
      "metadata": {
        "id": "Uj0SJ8X7oJyS"
      },
      "source": [
        "# Генерация сабмита"
      ]
    },
    {
      "cell_type": "code",
      "metadata": {
        "id": "GOylt-T8oJyS"
      },
      "source": [
        "sample_sub = pd.read_csv(\"sample_submission (2).csv\", index_col=\"pair_id\")"
      ],
      "execution_count": null,
      "outputs": []
    },
    {
      "cell_type": "code",
      "metadata": {
        "id": "f4JiA4DroJyS",
        "colab": {
          "base_uri": "https://localhost:8080/",
          "height": 450
        },
        "outputId": "619ea6b1-2ad1-4192-eace-026deb5030bc"
      },
      "source": [
        "sample_sub"
      ],
      "execution_count": null,
      "outputs": [
        {
          "output_type": "execute_result",
          "data": {
            "text/html": [
              "<div>\n",
              "<style scoped>\n",
              "    .dataframe tbody tr th:only-of-type {\n",
              "        vertical-align: middle;\n",
              "    }\n",
              "\n",
              "    .dataframe tbody tr th {\n",
              "        vertical-align: top;\n",
              "    }\n",
              "\n",
              "    .dataframe thead th {\n",
              "        text-align: right;\n",
              "    }\n",
              "</style>\n",
              "<table border=\"1\" class=\"dataframe\">\n",
              "  <thead>\n",
              "    <tr style=\"text-align: right;\">\n",
              "      <th></th>\n",
              "      <th>is_duplicate</th>\n",
              "    </tr>\n",
              "    <tr>\n",
              "      <th>pair_id</th>\n",
              "      <th></th>\n",
              "    </tr>\n",
              "  </thead>\n",
              "  <tbody>\n",
              "    <tr>\n",
              "      <th>1</th>\n",
              "      <td>1</td>\n",
              "    </tr>\n",
              "    <tr>\n",
              "      <th>2</th>\n",
              "      <td>1</td>\n",
              "    </tr>\n",
              "    <tr>\n",
              "      <th>3</th>\n",
              "      <td>1</td>\n",
              "    </tr>\n",
              "    <tr>\n",
              "      <th>4</th>\n",
              "      <td>1</td>\n",
              "    </tr>\n",
              "    <tr>\n",
              "      <th>5</th>\n",
              "      <td>1</td>\n",
              "    </tr>\n",
              "    <tr>\n",
              "      <th>...</th>\n",
              "      <td>...</td>\n",
              "    </tr>\n",
              "    <tr>\n",
              "      <th>213245</th>\n",
              "      <td>1</td>\n",
              "    </tr>\n",
              "    <tr>\n",
              "      <th>213246</th>\n",
              "      <td>1</td>\n",
              "    </tr>\n",
              "    <tr>\n",
              "      <th>213247</th>\n",
              "      <td>1</td>\n",
              "    </tr>\n",
              "    <tr>\n",
              "      <th>213248</th>\n",
              "      <td>1</td>\n",
              "    </tr>\n",
              "    <tr>\n",
              "      <th>213249</th>\n",
              "      <td>1</td>\n",
              "    </tr>\n",
              "  </tbody>\n",
              "</table>\n",
              "<p>213249 rows × 1 columns</p>\n",
              "</div>"
            ],
            "text/plain": [
              "         is_duplicate\n",
              "pair_id              \n",
              "1                   1\n",
              "2                   1\n",
              "3                   1\n",
              "4                   1\n",
              "5                   1\n",
              "...               ...\n",
              "213245              1\n",
              "213246              1\n",
              "213247              1\n",
              "213248              1\n",
              "213249              1\n",
              "\n",
              "[213249 rows x 1 columns]"
            ]
          },
          "metadata": {
            "tags": []
          },
          "execution_count": 48
        }
      ]
    },
    {
      "cell_type": "code",
      "metadata": {
        "id": "BPykq_p2oJyS"
      },
      "source": [
        "sample_sub[\"is_duplicate\"] = ert.predict(test[FTS].values)\n"
      ],
      "execution_count": null,
      "outputs": []
    },
    {
      "cell_type": "code",
      "metadata": {
        "colab": {
          "base_uri": "https://localhost:8080/"
        },
        "id": "rGZCj3YPGwOc",
        "outputId": "8a3cb2e5-d7a3-402c-e5ed-be477c0b0b61"
      },
      "source": [
        "sample_sub.is_duplicate.value_counts()"
      ],
      "execution_count": null,
      "outputs": [
        {
          "output_type": "execute_result",
          "data": {
            "text/plain": [
              "0    212387\n",
              "1       862\n",
              "Name: is_duplicate, dtype: int64"
            ]
          },
          "metadata": {
            "tags": []
          },
          "execution_count": 51
        }
      ]
    },
    {
      "cell_type": "code",
      "metadata": {
        "id": "s4cu5V9lHeDr"
      },
      "source": [
        "sample_sub.to_csv(\"submission_cos_ert.csv\")"
      ],
      "execution_count": null,
      "outputs": []
    },
    {
      "cell_type": "code",
      "metadata": {
        "id": "UASlGhOyYTAg"
      },
      "source": [
        "sample_sub[\"is_duplicate\"] = rf.predict(test[FTS].values)"
      ],
      "execution_count": null,
      "outputs": []
    },
    {
      "cell_type": "code",
      "metadata": {
        "id": "72gTI3pmoJyT",
        "colab": {
          "base_uri": "https://localhost:8080/"
        },
        "outputId": "af09d04d-706d-4f1f-b4fa-5bbbfdf3a881"
      },
      "source": [
        "sample_sub.is_duplicate.value_counts()"
      ],
      "execution_count": null,
      "outputs": [
        {
          "output_type": "execute_result",
          "data": {
            "text/plain": [
              "0    212390\n",
              "1       859\n",
              "Name: is_duplicate, dtype: int64"
            ]
          },
          "metadata": {
            "tags": []
          },
          "execution_count": 54
        }
      ]
    },
    {
      "cell_type": "code",
      "metadata": {
        "id": "4WGAWjL1oJyT"
      },
      "source": [
        "sample_sub.to_csv(\"submission_cos_rf.csv\")"
      ],
      "execution_count": null,
      "outputs": []
    },
    {
      "cell_type": "code",
      "metadata": {
        "id": "QFQXIMUWoJyT"
      },
      "source": [
        ""
      ],
      "execution_count": null,
      "outputs": []
    }
  ]
}